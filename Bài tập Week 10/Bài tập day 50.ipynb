{
 "cells": [
  {
   "cell_type": "code",
   "execution_count": 1,
   "metadata": {},
   "outputs": [],
   "source": [
    "import mysql.connector\n",
    "import pandas as pd\n",
    "import mysql.connector.errorcode"
   ]
  },
  {
   "cell_type": "code",
   "execution_count": 3,
   "metadata": {},
   "outputs": [],
   "source": [
    "#Connect to database\n",
    "connection = mysql.connector.connect(\n",
    "    host=\"localhost\",\n",
    "    user=\"root\",\n",
    "    password=\"123#edc\",\n",
    "    database=\"aio.week.10\"\n",
    ")\n",
    "\n",
    "cursor = connection.cursor()"
   ]
  },
  {
   "cell_type": "code",
   "execution_count": 6,
   "metadata": {},
   "outputs": [],
   "source": [
    "#Create table order logs\n",
    "order_logs = \"\"\"\n",
    "CREATE TABLE order_logs (\n",
    "               id INT AUTO_INCREMENT PRIMARY KEY, \n",
    "               log_message TEXT, \n",
    "               created_at TIMESTAMP DEFAULT CURRENT_TIMESTAMP\n",
    ");\n",
    "\"\"\"\n",
    "try:\n",
    "    cursor.execute(order_logs)\n",
    "    print(\"Table order_logs created successfully\")\n",
    "except mysql.connector.Error as err:\n",
    "    print(f\"Error: {err}\")\n",
    "\n",
    "#Commit changes\n",
    "connection.commit()"
   ]
  },
  {
   "cell_type": "code",
   "execution_count": 7,
   "metadata": {},
   "outputs": [
    {
     "name": "stdout",
     "output_type": "stream",
     "text": [
      "Trigger log_delete_order inserted successfully\n"
     ]
    }
   ],
   "source": [
    "trigger_log_delete_order = \"\"\"\n",
    "CREATE TRIGGER log_delete_order\n",
    "AFTER DELETE ON orders\n",
    "FOR EACH ROW\n",
    "BEGIN\n",
    "INSERT INTO order_logs (log_message)\n",
    "VALUES (CONCAT('Old order ID: ', OLD.id, ' - total: ', OLD.total));\n",
    "END;\n",
    "\"\"\"\n",
    "try:\n",
    "    cursor.execute(trigger_log_delete_order)\n",
    "    print(\"Trigger log_delete_order inserted successfully\")\n",
    "except mysql.connector.Error as err:\n",
    "    print(f\"Error: {err}\")\n",
    "\n",
    "# Đóng kết nối\n",
    "cursor.close()\n",
    "connection.close()"
   ]
  },
  {
   "cell_type": "code",
   "execution_count": 15,
   "metadata": {},
   "outputs": [],
   "source": [
    "#Connect to database\n",
    "connection = mysql.connector.connect(\n",
    "    host=\"localhost\",\n",
    "    user=\"root\",\n",
    "    password=\"123#edc\",\n",
    "    database=\"aio.week.10\"\n",
    ")\n",
    "\n",
    "cursor = connection.cursor()\n",
    "\n",
    "try:\n",
    "    cursor.execute('DELETE FROM order_items oi WHERE oi.order_id in (Select id from orders where id = 1)')\n",
    "    cursor.execute('Delete from orders where id = 1')\n",
    "    connection.commit()\n",
    "except mysql.connector.Error as err:\n",
    "    print(f\"Error: {err}\")"
   ]
  },
  {
   "cell_type": "code",
   "execution_count": 23,
   "metadata": {},
   "outputs": [
    {
     "name": "stderr",
     "output_type": "stream",
     "text": [
      "C:\\Users\\AI LEARNER\\AppData\\Local\\Temp\\ipykernel_3332\\2502494356.py:9: UserWarning: pandas only supports SQLAlchemy connectable (engine/connection) or database string URI or sqlite3 DBAPI2 connection. Other DBAPI2 objects are not tested. Please consider using SQLAlchemy.\n",
      "  df = pd.read_sql_query(\"Select * from order_logs\", connection)\n"
     ]
    },
    {
     "data": {
      "text/html": [
       "<div>\n",
       "<style scoped>\n",
       "    .dataframe tbody tr th:only-of-type {\n",
       "        vertical-align: middle;\n",
       "    }\n",
       "\n",
       "    .dataframe tbody tr th {\n",
       "        vertical-align: top;\n",
       "    }\n",
       "\n",
       "    .dataframe thead th {\n",
       "        text-align: right;\n",
       "    }\n",
       "</style>\n",
       "<table border=\"1\" class=\"dataframe\">\n",
       "  <thead>\n",
       "    <tr style=\"text-align: right;\">\n",
       "      <th></th>\n",
       "      <th>id</th>\n",
       "      <th>log_message</th>\n",
       "      <th>created_at</th>\n",
       "    </tr>\n",
       "  </thead>\n",
       "  <tbody>\n",
       "    <tr>\n",
       "      <th>0</th>\n",
       "      <td>1</td>\n",
       "      <td>Old order ID: 1 - total: 500.00</td>\n",
       "      <td>2025-04-10 16:19:51</td>\n",
       "    </tr>\n",
       "  </tbody>\n",
       "</table>\n",
       "</div>"
      ],
      "text/plain": [
       "   id                      log_message          created_at\n",
       "0   1  Old order ID: 1 - total: 500.00 2025-04-10 16:19:51"
      ]
     },
     "execution_count": 23,
     "metadata": {},
     "output_type": "execute_result"
    }
   ],
   "source": [
    "connection = mysql.connector.connect(\n",
    "    host=\"localhost\",\n",
    "    user=\"root\",\n",
    "    password=\"123#edc\",\n",
    "    database=\"aio.week.10\"\n",
    ")\n",
    "\n",
    "cursor = connection.cursor()\n",
    "df = pd.read_sql_query(\"Select * from order_logs\", connection)\n",
    "df.head()\n",
    "\n"
   ]
  },
  {
   "cell_type": "code",
   "execution_count": 24,
   "metadata": {},
   "outputs": [
    {
     "data": {
      "text/plain": [
       "True"
      ]
     },
     "execution_count": 24,
     "metadata": {},
     "output_type": "execute_result"
    }
   ],
   "source": [
    "connection.close()\n",
    "cursor.close()"
   ]
  },
  {
   "cell_type": "code",
   "execution_count": 26,
   "metadata": {},
   "outputs": [
    {
     "name": "stdout",
     "output_type": "stream",
     "text": [
      "Error: 1359 (HY000): Trigger already exists\n"
     ]
    },
    {
     "data": {
      "text/plain": [
       "True"
      ]
     },
     "execution_count": 26,
     "metadata": {},
     "output_type": "execute_result"
    }
   ],
   "source": [
    "connection = mysql.connector.connect(\n",
    "    host=\"localhost\",\n",
    "    user=\"root\",\n",
    "    password=\"123#edc\",\n",
    "    database=\"aio.week.10\"\n",
    ")\n",
    "\n",
    "cursor = connection.cursor()\n",
    "\n",
    "trigger_update_order_total = \"\"\"\n",
    "CREATE TRIGGER update_order_total\n",
    "AFTER UPDATE ON order_items\n",
    "FOR EACH ROW\n",
    "BEGIN\n",
    "UPDATE orders SET total = (SELECT SUM(price * quantity) FROM order_items WHERE order_id = NEW.order_id)\n",
    "WHERE id = NEW.order_id;\n",
    "END;\n",
    "\"\"\"\n",
    "\n",
    "try:\n",
    "    cursor.execute(trigger_update_order_total)\n",
    "except mysql.connector.Error as err:\n",
    "    print(f\"Error: {err}\")\n",
    "connection.close()\n",
    "cursor.close()"
   ]
  },
  {
   "cell_type": "code",
   "execution_count": 34,
   "metadata": {},
   "outputs": [],
   "source": [
    "connection = mysql.connector.connect(\n",
    "    host=\"localhost\",\n",
    "    user=\"root\",\n",
    "    password=\"123#edc\",\n",
    "    database=\"aio.week.10\"\n",
    ")\n",
    "\n",
    "cursor = connection.cursor()\n",
    "\n",
    "trigger_price_not_exceed_1000 = \"\"\"\n",
    "CREATE TRIGGER price_not_exceed_1000\n",
    "BEFORE UPDATE ON products\n",
    "FOR EACH ROW\n",
    "BEGIN\n",
    "    IF NEW.price > 1000 THEN\n",
    "        SIGNAL SQLSTATE '45000' \n",
    "        SET MESSAGE_TEXT = 'Price cannot exceed 1000$';\n",
    "    END IF;\n",
    "END;\n",
    "\"\"\"\n",
    "\n",
    "try:\n",
    "    cursor.execute(trigger_price_not_exceed_1000)\n",
    "except mysql.connector.Error as err:\n",
    "    print(f\"Error: {err}\")\n",
    "\n",
    "\n",
    "connection.commit()"
   ]
  },
  {
   "cell_type": "code",
   "execution_count": 33,
   "metadata": {},
   "outputs": [
    {
     "name": "stdout",
     "output_type": "stream",
     "text": [
      "Error: 1360 (HY000): Trigger does not exist\n"
     ]
    }
   ],
   "source": [
    "\n"
   ]
  },
  {
   "cell_type": "code",
   "execution_count": 35,
   "metadata": {},
   "outputs": [
    {
     "name": "stdout",
     "output_type": "stream",
     "text": [
      "Error: 1644 (45000): Price cannot exceed 1000$\n"
     ]
    }
   ],
   "source": [
    "query = \"\"\"\n",
    "UPDATE products SET price = 1003 WHERE id = 2;\n",
    "\"\"\"\n",
    "\n",
    "try:\n",
    "    cursor.execute(query)\n",
    "except mysql.connector.Error as err:\n",
    "    print(f\"Error: {err}\")"
   ]
  },
  {
   "cell_type": "code",
   "execution_count": 36,
   "metadata": {},
   "outputs": [],
   "source": [
    "query = \"\"\"\n",
    "Create table customers_deleted (\n",
    "    id INT,\n",
    "    name VARCHAR(255),\n",
    "    city VARCHAR(255),\n",
    "    deleted_at TIMESTAMP DEFAULT CURRENT_TIMESTAMP\n",
    ");\n",
    "\"\"\"\n",
    "\n",
    "try:\n",
    "    cursor.execute(query)\n",
    "    connection.commit()\n",
    "except mysql.connector.Error as err:\n",
    "    print(f\"Error: {err}\")"
   ]
  },
  {
   "cell_type": "code",
   "execution_count": 37,
   "metadata": {},
   "outputs": [],
   "source": [
    "trigger_delete_customer = \"\"\"\n",
    "Create trigger delete_customer\n",
    "After delete on customers\n",
    "for each row\n",
    "begin\n",
    "    insert into customers_deleted (id, name, city, deleted_at)\n",
    "    values ('Old id: ', old.id, ' - Old name: ', old.name, ' - Old city: ', old.city, ' - Deleted at: ', now());\n",
    "end;\n",
    "\"\"\"\n",
    "try:\n",
    "    cursor.execute(trigger_delete_customer)\n",
    "    connection.commit()\n",
    "except mysql.connector.Error as err:\n",
    "    print(f\"Error: {err}\")"
   ]
  },
  {
   "cell_type": "code",
   "execution_count": 47,
   "metadata": {},
   "outputs": [
    {
     "name": "stdout",
     "output_type": "stream",
     "text": [
      "Error: 1054 (42S22): Unknown column 'customer_id' in 'IN/ALL/ANY subquery'\n"
     ]
    }
   ],
   "source": [
    "\n",
    "try:\n",
    "    cursor.execute('DELETE FROM order_items WHERE customer_id IN (SELECT id FROM orders WHERE customer_id = 1);')\n",
    "    cursor.execute('DELETE FROM orders WHERE customer_id = 1;')\n",
    "    cursor.execute('DELETE FROM customers WHERE id = 1;')\n",
    "    connection.commit()\n",
    "except mysql.connector.Error as err:\n",
    "    print(f\"Error: {err}\")\n"
   ]
  },
  {
   "cell_type": "code",
   "execution_count": 44,
   "metadata": {},
   "outputs": [
    {
     "name": "stdout",
     "output_type": "stream",
     "text": [
      "Empty DataFrame\n",
      "Columns: [id, name, city, deleted_at]\n",
      "Index: []\n"
     ]
    },
    {
     "name": "stderr",
     "output_type": "stream",
     "text": [
      "C:\\Users\\AI LEARNER\\AppData\\Local\\Temp\\ipykernel_3332\\2729908622.py:11: UserWarning: pandas only supports SQLAlchemy connectable (engine/connection) or database string URI or sqlite3 DBAPI2 connection. Other DBAPI2 objects are not tested. Please consider using SQLAlchemy.\n",
      "  df = pd.read_sql_query(query, connection)\n"
     ]
    }
   ],
   "source": [
    "connection = mysql.connector.connect(\n",
    "    host=\"localhost\",\n",
    "    user=\"root\",\n",
    "    password=\"123#edc\",\n",
    "    database=\"aio.week.10\"\n",
    ")\n",
    "\n",
    "cursor = connection.cursor()\n",
    "\n",
    "query = \"\"\"select * from customers_deleted;\"\"\"\n",
    "df = pd.read_sql_query(query, connection)\n",
    "print(df)\n",
    "\n",
    "\n",
    "\n"
   ]
  },
  {
   "cell_type": "code",
   "execution_count": 2,
   "metadata": {},
   "outputs": [],
   "source": [
    "connection = mysql.connector.connect(\n",
    "    host=\"localhost\",\n",
    "    user=\"root\",\n",
    "    password=\"123#edc\",\n",
    "    database=\"aio.week.10\"\n",
    ")\n",
    "\n",
    "cursor = connection.cursor()\n"
   ]
  },
  {
   "cell_type": "code",
   "execution_count": 3,
   "metadata": {},
   "outputs": [],
   "source": [
    "query = \"\"\"\n",
    "Create table order_alert (\n",
    "    id INT PRIMARY KEY,\n",
    "    alert_message TEXT,\n",
    "    created_at TIMESTAMP DEFAULT CURRENT_TIMESTAMP\n",
    ");\n",
    "\"\"\"\n",
    "try:\n",
    "    cursor.execute(query)\n",
    "    connection.commit()\n",
    "except mysql.connector.Error as err:\n",
    "    print(f\"Error: {err}\")"
   ]
  },
  {
   "cell_type": "code",
   "execution_count": 5,
   "metadata": {},
   "outputs": [],
   "source": [
    "trigger_order_alert = \"\"\"\n",
    "Create trigger order_alert\n",
    "After insert on orders\n",
    "for each row\n",
    "begin\n",
    "    if new.total > 1000 and (Select city from customers where id = new.customer_id) = 'Hanoi' then\n",
    "        insert into order_alert (alert_message) \n",
    "        values ('Order total is greater than 1000');\n",
    "    end if;\n",
    "end;\n",
    "\"\"\"\n",
    "try:\n",
    "    cursor.execute(trigger_order_alert)\n",
    "    connection.commit()\n",
    "except mysql.connector.Error as err:\n",
    "    print(f\"Error: {err}\")"
   ]
  },
  {
   "cell_type": "code",
   "execution_count": null,
   "metadata": {},
   "outputs": [],
   "source": []
  },
  {
   "cell_type": "code",
   "execution_count": null,
   "metadata": {},
   "outputs": [],
   "source": []
  }
 ],
 "metadata": {
  "kernelspec": {
   "display_name": "Python 3",
   "language": "python",
   "name": "python3"
  },
  "language_info": {
   "codemirror_mode": {
    "name": "ipython",
    "version": 3
   },
   "file_extension": ".py",
   "mimetype": "text/x-python",
   "name": "python",
   "nbconvert_exporter": "python",
   "pygments_lexer": "ipython3",
   "version": "3.11.9"
  }
 },
 "nbformat": 4,
 "nbformat_minor": 2
}
