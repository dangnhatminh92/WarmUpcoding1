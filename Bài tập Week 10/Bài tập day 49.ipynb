{
 "cells": [
  {
   "cell_type": "code",
   "execution_count": 1,
   "metadata": {},
   "outputs": [],
   "source": [
    "import mysql.connector\n",
    "import pandas as pd"
   ]
  },
  {
   "cell_type": "code",
   "execution_count": 5,
   "metadata": {},
   "outputs": [],
   "source": [
    "#Connect to database\n",
    "connection = mysql.connector.connect(\n",
    "    host=\"localhost\",\n",
    "    user=\"root\",\n",
    "    password=\"123#edc\",\n",
    "    database=\"aio.week.10\"\n",
    ")\n",
    "\n",
    "cursor = connection.cursor()"
   ]
  },
  {
   "cell_type": "code",
   "execution_count": 12,
   "metadata": {},
   "outputs": [
    {
     "name": "stdout",
     "output_type": "stream",
     "text": [
      "Stored procedure created.\n"
     ]
    }
   ],
   "source": [
    "# Create stored procedure: comput total order amount\n",
    "cursor.execute(\"DROP PROCEDURE IF EXISTS ComputeTotalOrderAmount\")\n",
    "cursor.execute(\"\"\"\n",
    "CREATE PROCEDURE ComputeTotalOrderAmount(IN customer_id INT, OUT total_order_amount INT)\n",
    "BEGIN\n",
    "    SELECT COUNT(o.id) INTO total_order_amount\n",
    "    FROM orders o\n",
    "    WHERE o.customer_id = customer_id;\n",
    "END;\n",
    "\"\"\")\n",
    "connection.commit()\n",
    "cursor.close()\n",
    "connection.close()\n",
    "print(\"Stored procedure created.\")\n"
   ]
  },
  {
   "cell_type": "code",
   "execution_count": 18,
   "metadata": {},
   "outputs": [
    {
     "name": "stdout",
     "output_type": "stream",
     "text": [
      "Tổng số đơn hàng: 2\n"
     ]
    }
   ],
   "source": [
    "#Connect to database\n",
    "connection = mysql.connector.connect(\n",
    "    host=\"localhost\",\n",
    "    user=\"root\",\n",
    "    password=\"123#edc\",\n",
    "    database=\"aio.week.10\"\n",
    ")\n",
    "\n",
    "cursor = connection.cursor()\n",
    "args = [1, 0]  # 0 là placeholder cho OUT\n",
    "results = cursor.callproc('ComputeTotalOrderAmount', args)\n",
    "\n",
    "# OUT nằm ở vị trí thứ 2 trong mảng args\n",
    "print(\"Tổng số đơn hàng:\", results[1])"
   ]
  },
  {
   "cell_type": "code",
   "execution_count": 19,
   "metadata": {},
   "outputs": [
    {
     "name": "stdout",
     "output_type": "stream",
     "text": [
      "Stored procedure created.\n"
     ]
    }
   ],
   "source": [
    "#Tạo procedure get name of employee by id\n",
    "cursor.execute(\"DROP PROCEDURE IF EXISTS GetEmployeeNameById\")\n",
    "cursor.execute(\"\"\"\n",
    "CREATE PROCEDURE GetEmployeeNameById(IN employee_id INT, OUT employee_name VARCHAR(255))\n",
    "BEGIN\n",
    "    SELECT name INTO employee_name\n",
    "    FROM employees\n",
    "    WHERE id = employee_id;\n",
    "END;\n",
    "\"\"\")\n",
    "connection.commit()\n",
    "cursor.close()\n",
    "connection.close()\n",
    "print(\"Stored procedure created.\")"
   ]
  },
  {
   "cell_type": "code",
   "execution_count": 21,
   "metadata": {},
   "outputs": [
    {
     "name": "stdout",
     "output_type": "stream",
     "text": [
      "Tên nhân viên: Emma\n"
     ]
    }
   ],
   "source": [
    "#Connect to database\n",
    "connection = mysql.connector.connect(\n",
    "    host=\"localhost\",\n",
    "    user=\"root\",\n",
    "    password=\"123#edc\",\n",
    "    database=\"aio.week.10\"\n",
    ")\n",
    "\n",
    "cursor = connection.cursor()\n",
    "args = [2, 0]  # 0 là placeholder cho OUT\n",
    "results = cursor.callproc('GetEmployeeNameById', args)\n",
    "\n",
    "# OUT nằm ở vị trí thứ 2 trong mảng args\n",
    "print(\"Tên nhân viên:\", results[1])"
   ]
  },
  {
   "cell_type": "code",
   "execution_count": 22,
   "metadata": {},
   "outputs": [
    {
     "name": "stdout",
     "output_type": "stream",
     "text": [
      "Stored procedure created.\n"
     ]
    }
   ],
   "source": [
    "# Update customer city\n",
    "cursor.execute(\"DROP PROCEDURE IF EXISTS UpdateCustomerCity\")\n",
    "cursor.execute(\"\"\"\n",
    "CREATE PROCEDURE UpdateCustomerCity(IN customer_id INT, IN new_city VARCHAR(255))\n",
    "BEGIN\n",
    "    UPDATE customers\n",
    "    SET city = new_city\n",
    "    where id = customer_id;\n",
    "END;\n",
    "\"\"\")\n",
    "connection.commit()\n",
    "cursor.close()\n",
    "connection.close()\n",
    "print(\"Stored procedure created.\")\n"
   ]
  },
  {
   "cell_type": "code",
   "execution_count": 24,
   "metadata": {},
   "outputs": [
    {
     "name": "stdout",
     "output_type": "stream",
     "text": [
      "Tên nhân viên: New York\n",
      "   id     name      city\n",
      "0   1    Alice     HaNoi\n",
      "1   2      Bob  New York\n",
      "2   3  Charlie     Hanoi\n"
     ]
    },
    {
     "name": "stderr",
     "output_type": "stream",
     "text": [
      "C:\\Users\\AI LEARNER\\AppData\\Local\\Temp\\ipykernel_8916\\481369384.py:16: UserWarning: pandas only supports SQLAlchemy connectable (engine/connection) or database string URI or sqlite3 DBAPI2 connection. Other DBAPI2 objects are not tested. Please consider using SQLAlchemy.\n",
      "  df = pd.read_sql_query(\"SELECT * FROM customers\", connection)\n"
     ]
    }
   ],
   "source": [
    "#Connect to database\n",
    "connection = mysql.connector.connect(\n",
    "    host=\"localhost\",\n",
    "    user=\"root\",\n",
    "    password=\"123#edc\",\n",
    "    database=\"aio.week.10\"\n",
    ")\n",
    "\n",
    "cursor = connection.cursor()\n",
    "args = [2, 'New York']  # 0 là placeholder cho OUT\n",
    "results = cursor.callproc('UpdateCustomerCity', args)\n",
    "\n",
    "# OUT nằm ở vị trí thứ 2 trong mảng args\n",
    "print(\"Tên nhân viên:\", results[1])\n",
    "\n",
    "df = pd.read_sql_query(\"SELECT * FROM customers\", connection)\n",
    "print(df)\n"
   ]
  },
  {
   "cell_type": "code",
   "execution_count": 31,
   "metadata": {},
   "outputs": [
    {
     "name": "stdout",
     "output_type": "stream",
     "text": [
      "Stored procedure created.\n"
     ]
    }
   ],
   "source": [
    "#Print product haveing price > X\n",
    "cursor.execute(\"DROP PROCEDURE IF EXISTS PrintProductHavingPriceGreaterThanX\")\n",
    "cursor.execute(\"\"\"\n",
    "CREATE PROCEDURE PrintProductHavingPriceGreaterThanX(IN min_price DECIMAL(10,2))\n",
    "BEGIN\n",
    "    SELECT * \n",
    "    FROM products \n",
    "    WHERE price > min_price;\n",
    "END;\n",
    "\"\"\")\n",
    "connection.commit()\n",
    "cursor.close()\n",
    "connection.close()\n",
    "print(\"Stored procedure created.\")\n",
    "\n"
   ]
  },
  {
   "cell_type": "code",
   "execution_count": null,
   "metadata": {},
   "outputs": [
    {
     "name": "stdout",
     "output_type": "stream",
     "text": [
      "(1, 'Laptop', Decimal('1500.00'))\n",
      "(3, 'Keyboard', Decimal('100.00'))\n",
      "(4, 'Monitor', Decimal('300.00'))\n"
     ]
    }
   ],
   "source": [
    "#Connect to database\n",
    "connection = mysql.connector.connect(\n",
    "    host=\"localhost\",\n",
    "    user=\"root\",\n",
    "    password=\"123#edc\",\n",
    "    database=\"aio.week.10\"\n",
    ")\n",
    "cursor = connection.cursor()\n",
    "\n",
    "min_price = 70.00\n",
    "results = cursor.callproc('PrintProductHavingPriceGreaterThanX', [min_price])\n",
    "\n",
    "# Lấy kết quả từ stored procedure\n",
    "for result in cursor.stored_results():\n",
    "    rows = result.fetchall()\n",
    "    for row in rows:\n",
    "        print(row)"
   ]
  },
  {
   "cell_type": "code",
   "execution_count": 44,
   "metadata": {},
   "outputs": [
    {
     "name": "stdout",
     "output_type": "stream",
     "text": [
      "Stored procedure created.\n"
     ]
    }
   ],
   "source": [
    "#Delete order have total amount < X\n",
    "#Connect to database\n",
    "connection = mysql.connector.connect(\n",
    "    host=\"localhost\",\n",
    "    user=\"root\",\n",
    "    password=\"123#edc\",\n",
    "    database=\"aio.week.10\"\n",
    ")\n",
    "cursor = connection.cursor()\n",
    "\n",
    "cursor.execute(\"DROP PROCEDURE IF EXISTS DeleteOrderHavingTotalAmountLessThanX\")\n",
    "cursor.execute(\"\"\"\n",
    "CREATE PROCEDURE DeleteOrderHavingTotalAmountLessThanX(IN min_total DECIMAL(10,2))\n",
    "BEGIN\n",
    "    SELECT * FROM orders WHERE total < min_total;\n",
    "               \n",
    "    DELETE FROM order_assignments \n",
    "    WHERE order_id IN \n",
    "               (SELECT id FROM orders WHERE total < min_total);\n",
    "\n",
    "    DELETE FROM orders\n",
    "    WHERE total < min_total;\n",
    "END;\n",
    "\"\"\")\n",
    "connection.commit()\n",
    "cursor.close()\n",
    "connection.close()\n",
    "print(\"Stored procedure created.\")\n"
   ]
  },
  {
   "cell_type": "code",
   "execution_count": 48,
   "metadata": {},
   "outputs": [
    {
     "name": "stdout",
     "output_type": "stream",
     "text": [
      "Đơn hàng sẽ bị xóa:\n"
     ]
    }
   ],
   "source": [
    "#Connect to database\n",
    "connection = mysql.connector.connect(\n",
    "    host=\"localhost\",\n",
    "    user=\"root\",\n",
    "    password=\"123#edc\",\n",
    "    database=\"aio.week.10\"\n",
    ")\n",
    "cursor = connection.cursor()\n",
    "\n",
    "cursor.callproc('DeleteOrderHavingTotalAmountLessThanX', [500])\n",
    "\n",
    "for result in cursor.stored_results():\n",
    "    rows = result.fetchall()\n",
    "    print(\"Đơn hàng sẽ bị xóa:\")\n",
    "    for row in rows:\n",
    "        print(row)\n",
    "\n",
    "connection.commit()"
   ]
  },
  {
   "cell_type": "code",
   "execution_count": 49,
   "metadata": {},
   "outputs": [
    {
     "name": "stdout",
     "output_type": "stream",
     "text": [
      "   id  customer_id order_date    total\n",
      "0   1            1 2024-01-10    500.0\n",
      "1   2            1 2024-03-01    800.0\n",
      "2   3            2 2024-02-20  12000.0\n"
     ]
    },
    {
     "name": "stderr",
     "output_type": "stream",
     "text": [
      "C:\\Users\\AI LEARNER\\AppData\\Local\\Temp\\ipykernel_8916\\4075030552.py:1: UserWarning: pandas only supports SQLAlchemy connectable (engine/connection) or database string URI or sqlite3 DBAPI2 connection. Other DBAPI2 objects are not tested. Please consider using SQLAlchemy.\n",
      "  query = pd.read_sql_query(\"SELECT * FROM orders\", connection)\n"
     ]
    }
   ],
   "source": [
    "query = pd.read_sql_query(\"SELECT * FROM orders\", connection)\n",
    "print(query)"
   ]
  }
 ],
 "metadata": {
  "kernelspec": {
   "display_name": "Python 3",
   "language": "python",
   "name": "python3"
  },
  "language_info": {
   "codemirror_mode": {
    "name": "ipython",
    "version": 3
   },
   "file_extension": ".py",
   "mimetype": "text/x-python",
   "name": "python",
   "nbconvert_exporter": "python",
   "pygments_lexer": "ipython3",
   "version": "3.11.9"
  }
 },
 "nbformat": 4,
 "nbformat_minor": 2
}
