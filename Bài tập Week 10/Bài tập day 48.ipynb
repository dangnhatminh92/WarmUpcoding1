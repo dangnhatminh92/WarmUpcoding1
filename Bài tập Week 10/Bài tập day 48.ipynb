{
 "cells": [
  {
   "cell_type": "code",
   "execution_count": 3,
   "metadata": {},
   "outputs": [],
   "source": [
    "import mysql.connector\n",
    "import pandas as pd"
   ]
  },
  {
   "cell_type": "code",
   "execution_count": 2,
   "metadata": {},
   "outputs": [],
   "source": [
    "#Connect to database\n",
    "connection = mysql.connector.connect(\n",
    "    host=\"localhost\",\n",
    "    user=\"root\",\n",
    "    password=\"123#edc\",\n",
    "    database=\"aio.week.10\"\n",
    ")\n",
    "\n",
    "cursor = connection.cursor()"
   ]
  },
  {
   "cell_type": "code",
   "execution_count": 5,
   "metadata": {},
   "outputs": [],
   "source": [
    "# Create table customers\n",
    "cursor.execute(\"\"\" \n",
    "CREATE TABLE IF NOT EXISTS customers(\n",
    "               id INT AUTO_INCREMENT PRIMARY KEY,\n",
    "               name VARCHAR(250), \n",
    "               city VARCHAR(250)\n",
    ");\n",
    "\"\"\")\n",
    "\n",
    "#Insert data into table\n",
    "data_customers = [('Alice', 'HaNoi'), \n",
    "                  ('Bob', 'Ho Chi Minh'), \n",
    "                  ('Charlie', 'Hanoi')]\n",
    "cursor.executemany(\"INSERT INTO customers (name, city) VALUES (%s, %s)\", data_customers)\n",
    "\n",
    "#Commit the transaction\n",
    "print(\"Table customers created successfully & data inserted\")\n",
    "connection.commit()"
   ]
  },
  {
   "cell_type": "code",
   "execution_count": 6,
   "metadata": {},
   "outputs": [
    {
     "name": "stdout",
     "output_type": "stream",
     "text": [
      "Table orders created successfully & data inserted\n"
     ]
    }
   ],
   "source": [
    "#Create table orders\n",
    "cursor.execute(\"\"\"\n",
    "CREATE TABLE IF NOT EXISTS orders(\n",
    "               id INT AUTO_INCREMENT PRIMARY KEY,\n",
    "               customer_id INT,\n",
    "               order_date DATETIME,\n",
    "               total DECIMAL(10, 2),\n",
    "               FOREIGN KEY (customer_id) REFERENCES customers(id)\n",
    ");\n",
    "\"\"\")\n",
    "\n",
    "#Insert data into table\n",
    "data_orders = [\n",
    "    (1, '2024-01-10', 500),\n",
    "    (1, '2024-03-01', 800),\n",
    "    (2, '2024-02-20', 12000),\n",
    "    (3, '2024-01-15', 200)\n",
    "]\n",
    "cursor.executemany(\"INSERT INTO orders (customer_id, order_date, total) VALUES (%s, %s, %s)\", data_orders)\n",
    "\n",
    "#Commit the transaction\n",
    "print(\"Table orders created successfully & data inserted\")\n",
    "connection.commit()"
   ]
  },
  {
   "cell_type": "code",
   "execution_count": 7,
   "metadata": {},
   "outputs": [
    {
     "name": "stdout",
     "output_type": "stream",
     "text": [
      "Table products created successfully & data inserted\n"
     ]
    }
   ],
   "source": [
    "#Create table products\n",
    "cursor.execute(\"\"\"\n",
    "CREATE TABLE IF NOT EXISTS products(\n",
    "               id INT AUTO_INCREMENT PRIMARY KEY,\n",
    "               name VARCHAR(250),\n",
    "               price DECIMAL(10, 2)\n",
    ");\n",
    "\"\"\")\n",
    "\n",
    "#Insert data into table\n",
    "data_products = [\n",
    "    ('Laptop', 1500),\n",
    "    ('Mouse', 50),\n",
    "    ('Keyboard', 100),\n",
    "    ('Monitor', 300)\n",
    "]\n",
    "cursor.executemany(\"INSERT INTO products (name, price) VALUES (%s, %s)\", data_products)\n",
    "\n",
    "#Commit the transaction\n",
    "print(\"Table products created successfully & data inserted\")\n",
    "connection.commit()\n",
    "\n",
    "\n"
   ]
  },
  {
   "cell_type": "code",
   "execution_count": 8,
   "metadata": {},
   "outputs": [
    {
     "name": "stdout",
     "output_type": "stream",
     "text": [
      "Table order_items created successfully & data inserted\n"
     ]
    }
   ],
   "source": [
    "#Create table order_items\n",
    "cursor.execute(\"\"\"\n",
    "CREATE TABLE IF NOT EXISTS order_items(\n",
    "               id INT AUTO_INCREMENT PRIMARY KEY,\n",
    "               order_id INT,\n",
    "               product_id INT,\n",
    "               quantity INT,\n",
    "               FOREIGN KEY (order_id) REFERENCES orders(id),\n",
    "               FOREIGN KEY (product_id) REFERENCES products(id)\n",
    ");\n",
    "\"\"\")\n",
    "\n",
    "#Insert data into table\n",
    "data_order_items = [\n",
    "    (1, 2, 2),\n",
    "    (1, 3, 1),\n",
    "    (2, 1, 1),\n",
    "    (2, 4, 1),\n",
    "    (3, 1, 1)\n",
    "]\n",
    "cursor.executemany(\"INSERT INTO order_items (order_id, product_id, quantity) VALUES (%s, %s, %s)\", data_order_items)\n",
    "\n",
    "#Commit the transaction\n",
    "print(\"Table order_items created successfully & data inserted\")\n",
    "connection.commit()\n",
    "\n",
    "\n",
    "\n",
    "\n"
   ]
  },
  {
   "cell_type": "code",
   "execution_count": 9,
   "metadata": {},
   "outputs": [
    {
     "name": "stdout",
     "output_type": "stream",
     "text": [
      "Table employees created successfully & data inserted\n"
     ]
    }
   ],
   "source": [
    "#Create table employees\n",
    "cursor.execute(\"\"\"\n",
    "CREATE TABLE IF NOT EXISTS employees(\n",
    "               id INT AUTO_INCREMENT PRIMARY KEY,\n",
    "               name VARCHAR(250),\n",
    "               department VARCHAR(250)\n",
    ");\n",
    "\"\"\")\n",
    "\n",
    "#Insert data into table\n",
    "data_employees = [\n",
    "    ('David', 'Sales'),\n",
    "    ('Emma', 'Support'), \n",
    "    ('Frank', 'Sales')\n",
    "]\n",
    "cursor.executemany(\"INSERT INTO employees (name, department) VALUES (%s, %s)\", data_employees)\n",
    "\n",
    "#Commit the transaction\n",
    "print(\"Table employees created successfully & data inserted\")\n",
    "connection.commit()"
   ]
  },
  {
   "cell_type": "code",
   "execution_count": 10,
   "metadata": {},
   "outputs": [
    {
     "name": "stdout",
     "output_type": "stream",
     "text": [
      "Table order_assignments created successfully & data inserted\n"
     ]
    }
   ],
   "source": [
    "# Create table order_assignments\n",
    "cursor.execute(\"\"\"\n",
    "CREATE TABLE IF NOT EXISTS order_assignments(\n",
    "               id INT AUTO_INCREMENT PRIMARY KEY,\n",
    "               order_id INT,\n",
    "               employee_id INT,\n",
    "               FOREIGN KEY (order_id) REFERENCES orders(id),\n",
    "               FOREIGN KEY (employee_id) REFERENCES employees(id)\n",
    ");\n",
    "\"\"\")\n",
    "\n",
    "#Insert data into table \n",
    "data_order_assignments = [\n",
    "    (1, 1),\n",
    "    (2, 3),\n",
    "    (3, 2)\n",
    "]\n",
    "cursor.executemany(\"INSERT INTO order_assignments (order_id, employee_id) VALUES (%s, %s)\", data_order_assignments) \n",
    "\n",
    "#Commit the transaction\n",
    "print(\"Table order_assignments created successfully & data inserted\")\n",
    "connection.commit()\n"
   ]
  },
  {
   "cell_type": "code",
   "execution_count": 11,
   "metadata": {},
   "outputs": [],
   "source": [
    "#Close the connection\n",
    "cursor.close()\n",
    "connection.close()"
   ]
  },
  {
   "cell_type": "code",
   "execution_count": 10,
   "metadata": {},
   "outputs": [],
   "source": [
    "#Connect to database\n",
    "connection = mysql.connector.connect(\n",
    "    host=\"localhost\",\n",
    "    user=\"root\",\n",
    "    password=\"123#edc\",\n",
    "    database=\"aio.week.10\"\n",
    ")\n",
    "\n",
    "cursor = connection.cursor()"
   ]
  },
  {
   "cell_type": "code",
   "execution_count": 15,
   "metadata": {},
   "outputs": [
    {
     "name": "stderr",
     "output_type": "stream",
     "text": [
      "C:\\Users\\AI LEARNER\\AppData\\Local\\Temp\\ipykernel_24460\\2235774465.py:2: UserWarning: pandas only supports SQLAlchemy connectable (engine/connection) or database string URI or sqlite3 DBAPI2 connection. Other DBAPI2 objects are not tested. Please consider using SQLAlchemy.\n",
      "  df = pd.read_sql_query(\"SELECT * FROM customers\", connection)\n"
     ]
    },
    {
     "data": {
      "text/html": [
       "<div>\n",
       "<style scoped>\n",
       "    .dataframe tbody tr th:only-of-type {\n",
       "        vertical-align: middle;\n",
       "    }\n",
       "\n",
       "    .dataframe tbody tr th {\n",
       "        vertical-align: top;\n",
       "    }\n",
       "\n",
       "    .dataframe thead th {\n",
       "        text-align: right;\n",
       "    }\n",
       "</style>\n",
       "<table border=\"1\" class=\"dataframe\">\n",
       "  <thead>\n",
       "    <tr style=\"text-align: right;\">\n",
       "      <th></th>\n",
       "      <th>id</th>\n",
       "      <th>name</th>\n",
       "      <th>city</th>\n",
       "    </tr>\n",
       "  </thead>\n",
       "  <tbody>\n",
       "    <tr>\n",
       "      <th>0</th>\n",
       "      <td>1</td>\n",
       "      <td>Alice</td>\n",
       "      <td>HaNoi</td>\n",
       "    </tr>\n",
       "    <tr>\n",
       "      <th>1</th>\n",
       "      <td>2</td>\n",
       "      <td>Bob</td>\n",
       "      <td>Ho Chi Minh</td>\n",
       "    </tr>\n",
       "    <tr>\n",
       "      <th>2</th>\n",
       "      <td>3</td>\n",
       "      <td>Charlie</td>\n",
       "      <td>Hanoi</td>\n",
       "    </tr>\n",
       "  </tbody>\n",
       "</table>\n",
       "</div>"
      ],
      "text/plain": [
       "   id     name         city\n",
       "0   1    Alice        HaNoi\n",
       "1   2      Bob  Ho Chi Minh\n",
       "2   3  Charlie        Hanoi"
      ]
     },
     "execution_count": 15,
     "metadata": {},
     "output_type": "execute_result"
    }
   ],
   "source": [
    "# View table customers\n",
    "df = pd.read_sql_query(\"SELECT * FROM customers\", connection)\n",
    "df.head()"
   ]
  },
  {
   "cell_type": "code",
   "execution_count": 16,
   "metadata": {},
   "outputs": [
    {
     "name": "stderr",
     "output_type": "stream",
     "text": [
      "C:\\Users\\AI LEARNER\\AppData\\Local\\Temp\\ipykernel_24460\\916968381.py:1: UserWarning: pandas only supports SQLAlchemy connectable (engine/connection) or database string URI or sqlite3 DBAPI2 connection. Other DBAPI2 objects are not tested. Please consider using SQLAlchemy.\n",
      "  df = pd.read_sql_query(\"SELECT * FROM orders\", connection)\n"
     ]
    },
    {
     "data": {
      "text/html": [
       "<div>\n",
       "<style scoped>\n",
       "    .dataframe tbody tr th:only-of-type {\n",
       "        vertical-align: middle;\n",
       "    }\n",
       "\n",
       "    .dataframe tbody tr th {\n",
       "        vertical-align: top;\n",
       "    }\n",
       "\n",
       "    .dataframe thead th {\n",
       "        text-align: right;\n",
       "    }\n",
       "</style>\n",
       "<table border=\"1\" class=\"dataframe\">\n",
       "  <thead>\n",
       "    <tr style=\"text-align: right;\">\n",
       "      <th></th>\n",
       "      <th>id</th>\n",
       "      <th>customer_id</th>\n",
       "      <th>order_date</th>\n",
       "      <th>total</th>\n",
       "    </tr>\n",
       "  </thead>\n",
       "  <tbody>\n",
       "    <tr>\n",
       "      <th>0</th>\n",
       "      <td>1</td>\n",
       "      <td>1</td>\n",
       "      <td>2024-01-10</td>\n",
       "      <td>500.0</td>\n",
       "    </tr>\n",
       "    <tr>\n",
       "      <th>1</th>\n",
       "      <td>2</td>\n",
       "      <td>1</td>\n",
       "      <td>2024-03-01</td>\n",
       "      <td>800.0</td>\n",
       "    </tr>\n",
       "    <tr>\n",
       "      <th>2</th>\n",
       "      <td>3</td>\n",
       "      <td>2</td>\n",
       "      <td>2024-02-20</td>\n",
       "      <td>12000.0</td>\n",
       "    </tr>\n",
       "    <tr>\n",
       "      <th>3</th>\n",
       "      <td>4</td>\n",
       "      <td>3</td>\n",
       "      <td>2024-01-15</td>\n",
       "      <td>200.0</td>\n",
       "    </tr>\n",
       "  </tbody>\n",
       "</table>\n",
       "</div>"
      ],
      "text/plain": [
       "   id  customer_id order_date    total\n",
       "0   1            1 2024-01-10    500.0\n",
       "1   2            1 2024-03-01    800.0\n",
       "2   3            2 2024-02-20  12000.0\n",
       "3   4            3 2024-01-15    200.0"
      ]
     },
     "execution_count": 16,
     "metadata": {},
     "output_type": "execute_result"
    }
   ],
   "source": [
    "df = pd.read_sql_query(\"SELECT * FROM orders\", connection)\n",
    "df.head()\n",
    "\n"
   ]
  },
  {
   "cell_type": "code",
   "execution_count": 17,
   "metadata": {},
   "outputs": [
    {
     "name": "stderr",
     "output_type": "stream",
     "text": [
      "C:\\Users\\AI LEARNER\\AppData\\Local\\Temp\\ipykernel_24460\\3492773397.py:1: UserWarning: pandas only supports SQLAlchemy connectable (engine/connection) or database string URI or sqlite3 DBAPI2 connection. Other DBAPI2 objects are not tested. Please consider using SQLAlchemy.\n",
      "  df = pd.read_sql_query(\"SELECT * FROM order_items\", connection)\n"
     ]
    },
    {
     "data": {
      "text/html": [
       "<div>\n",
       "<style scoped>\n",
       "    .dataframe tbody tr th:only-of-type {\n",
       "        vertical-align: middle;\n",
       "    }\n",
       "\n",
       "    .dataframe tbody tr th {\n",
       "        vertical-align: top;\n",
       "    }\n",
       "\n",
       "    .dataframe thead th {\n",
       "        text-align: right;\n",
       "    }\n",
       "</style>\n",
       "<table border=\"1\" class=\"dataframe\">\n",
       "  <thead>\n",
       "    <tr style=\"text-align: right;\">\n",
       "      <th></th>\n",
       "      <th>id</th>\n",
       "      <th>order_id</th>\n",
       "      <th>product_id</th>\n",
       "      <th>quantity</th>\n",
       "    </tr>\n",
       "  </thead>\n",
       "  <tbody>\n",
       "    <tr>\n",
       "      <th>0</th>\n",
       "      <td>1</td>\n",
       "      <td>1</td>\n",
       "      <td>2</td>\n",
       "      <td>2</td>\n",
       "    </tr>\n",
       "    <tr>\n",
       "      <th>1</th>\n",
       "      <td>2</td>\n",
       "      <td>1</td>\n",
       "      <td>3</td>\n",
       "      <td>1</td>\n",
       "    </tr>\n",
       "    <tr>\n",
       "      <th>2</th>\n",
       "      <td>3</td>\n",
       "      <td>2</td>\n",
       "      <td>1</td>\n",
       "      <td>1</td>\n",
       "    </tr>\n",
       "    <tr>\n",
       "      <th>3</th>\n",
       "      <td>4</td>\n",
       "      <td>2</td>\n",
       "      <td>4</td>\n",
       "      <td>1</td>\n",
       "    </tr>\n",
       "    <tr>\n",
       "      <th>4</th>\n",
       "      <td>5</td>\n",
       "      <td>3</td>\n",
       "      <td>1</td>\n",
       "      <td>1</td>\n",
       "    </tr>\n",
       "  </tbody>\n",
       "</table>\n",
       "</div>"
      ],
      "text/plain": [
       "   id  order_id  product_id  quantity\n",
       "0   1         1           2         2\n",
       "1   2         1           3         1\n",
       "2   3         2           1         1\n",
       "3   4         2           4         1\n",
       "4   5         3           1         1"
      ]
     },
     "execution_count": 17,
     "metadata": {},
     "output_type": "execute_result"
    }
   ],
   "source": [
    "df = pd.read_sql_query(\"SELECT * FROM order_items\", connection)\n",
    "df.head()\n",
    "\n",
    "\n"
   ]
  },
  {
   "cell_type": "code",
   "execution_count": 18,
   "metadata": {},
   "outputs": [
    {
     "name": "stderr",
     "output_type": "stream",
     "text": [
      "C:\\Users\\AI LEARNER\\AppData\\Local\\Temp\\ipykernel_24460\\1336155142.py:1: UserWarning: pandas only supports SQLAlchemy connectable (engine/connection) or database string URI or sqlite3 DBAPI2 connection. Other DBAPI2 objects are not tested. Please consider using SQLAlchemy.\n",
      "  df = pd.read_sql_query(\"SELECT * FROM employees\", connection)\n"
     ]
    },
    {
     "data": {
      "text/html": [
       "<div>\n",
       "<style scoped>\n",
       "    .dataframe tbody tr th:only-of-type {\n",
       "        vertical-align: middle;\n",
       "    }\n",
       "\n",
       "    .dataframe tbody tr th {\n",
       "        vertical-align: top;\n",
       "    }\n",
       "\n",
       "    .dataframe thead th {\n",
       "        text-align: right;\n",
       "    }\n",
       "</style>\n",
       "<table border=\"1\" class=\"dataframe\">\n",
       "  <thead>\n",
       "    <tr style=\"text-align: right;\">\n",
       "      <th></th>\n",
       "      <th>id</th>\n",
       "      <th>name</th>\n",
       "      <th>department</th>\n",
       "    </tr>\n",
       "  </thead>\n",
       "  <tbody>\n",
       "    <tr>\n",
       "      <th>0</th>\n",
       "      <td>1</td>\n",
       "      <td>David</td>\n",
       "      <td>Sales</td>\n",
       "    </tr>\n",
       "    <tr>\n",
       "      <th>1</th>\n",
       "      <td>2</td>\n",
       "      <td>Emma</td>\n",
       "      <td>Support</td>\n",
       "    </tr>\n",
       "    <tr>\n",
       "      <th>2</th>\n",
       "      <td>3</td>\n",
       "      <td>Frank</td>\n",
       "      <td>Sales</td>\n",
       "    </tr>\n",
       "  </tbody>\n",
       "</table>\n",
       "</div>"
      ],
      "text/plain": [
       "   id   name department\n",
       "0   1  David      Sales\n",
       "1   2   Emma    Support\n",
       "2   3  Frank      Sales"
      ]
     },
     "execution_count": 18,
     "metadata": {},
     "output_type": "execute_result"
    }
   ],
   "source": [
    "df = pd.read_sql_query(\"SELECT * FROM employees\", connection)\n",
    "df.head()"
   ]
  },
  {
   "cell_type": "code",
   "execution_count": 19,
   "metadata": {},
   "outputs": [
    {
     "name": "stderr",
     "output_type": "stream",
     "text": [
      "C:\\Users\\AI LEARNER\\AppData\\Local\\Temp\\ipykernel_24460\\2329555199.py:1: UserWarning: pandas only supports SQLAlchemy connectable (engine/connection) or database string URI or sqlite3 DBAPI2 connection. Other DBAPI2 objects are not tested. Please consider using SQLAlchemy.\n",
      "  df = pd.read_sql_query(\"SELECT * FROM order_assignments\", connection)\n"
     ]
    },
    {
     "data": {
      "text/html": [
       "<div>\n",
       "<style scoped>\n",
       "    .dataframe tbody tr th:only-of-type {\n",
       "        vertical-align: middle;\n",
       "    }\n",
       "\n",
       "    .dataframe tbody tr th {\n",
       "        vertical-align: top;\n",
       "    }\n",
       "\n",
       "    .dataframe thead th {\n",
       "        text-align: right;\n",
       "    }\n",
       "</style>\n",
       "<table border=\"1\" class=\"dataframe\">\n",
       "  <thead>\n",
       "    <tr style=\"text-align: right;\">\n",
       "      <th></th>\n",
       "      <th>id</th>\n",
       "      <th>order_id</th>\n",
       "      <th>employee_id</th>\n",
       "    </tr>\n",
       "  </thead>\n",
       "  <tbody>\n",
       "    <tr>\n",
       "      <th>0</th>\n",
       "      <td>1</td>\n",
       "      <td>1</td>\n",
       "      <td>1</td>\n",
       "    </tr>\n",
       "    <tr>\n",
       "      <th>1</th>\n",
       "      <td>2</td>\n",
       "      <td>2</td>\n",
       "      <td>3</td>\n",
       "    </tr>\n",
       "    <tr>\n",
       "      <th>2</th>\n",
       "      <td>3</td>\n",
       "      <td>3</td>\n",
       "      <td>2</td>\n",
       "    </tr>\n",
       "  </tbody>\n",
       "</table>\n",
       "</div>"
      ],
      "text/plain": [
       "   id  order_id  employee_id\n",
       "0   1         1            1\n",
       "1   2         2            3\n",
       "2   3         3            2"
      ]
     },
     "execution_count": 19,
     "metadata": {},
     "output_type": "execute_result"
    }
   ],
   "source": [
    "df = pd.read_sql_query(\"SELECT * FROM order_assignments\", connection)\n",
    "df.head()"
   ]
  },
  {
   "cell_type": "code",
   "execution_count": 5,
   "metadata": {},
   "outputs": [
    {
     "name": "stdout",
     "output_type": "stream",
     "text": [
      "    name\n",
      "0  Alice\n",
      "1    Bob\n"
     ]
    },
    {
     "name": "stderr",
     "output_type": "stream",
     "text": [
      "C:\\Users\\AI LEARNER\\AppData\\Local\\Temp\\ipykernel_8684\\3841407697.py:14: UserWarning: pandas only supports SQLAlchemy connectable (engine/connection) or database string URI or sqlite3 DBAPI2 connection. Other DBAPI2 objects are not tested. Please consider using SQLAlchemy.\n",
      "  df  = pd.read_sql_query(query, connection)\n"
     ]
    }
   ],
   "source": [
    "# Tìm tất cả các khách hàng đã mua đơn hàng có sản phẩm > 1000\n",
    "\n",
    "query = \"\"\"\n",
    "Select c.name\n",
    "From customers c\n",
    "join orders o on c.id = o.customer_id\n",
    "where o.id in (\n",
    "    select oi.order_id\n",
    "    from order_items oi\n",
    "    join products p on oi.product_id = p.id\n",
    "    where p.price > 1000\n",
    ")\n",
    "\"\"\"\n",
    "df  = pd.read_sql_query(query, connection)\n",
    "print(df)\n"
   ]
  },
  {
   "cell_type": "code",
   "execution_count": 8,
   "metadata": {},
   "outputs": [
    {
     "name": "stdout",
     "output_type": "stream",
     "text": [
      "      name  total_spent\n",
      "0    Alice       2000.0\n",
      "1      Bob       1500.0\n",
      "2  Charlie          NaN\n"
     ]
    },
    {
     "name": "stderr",
     "output_type": "stream",
     "text": [
      "C:\\Users\\AI LEARNER\\AppData\\Local\\Temp\\ipykernel_8684\\3530197996.py:13: UserWarning: pandas only supports SQLAlchemy connectable (engine/connection) or database string URI or sqlite3 DBAPI2 connection. Other DBAPI2 objects are not tested. Please consider using SQLAlchemy.\n",
      "  df  = pd.read_sql_query(query, connection)\n"
     ]
    }
   ],
   "source": [
    "#Liệt kê tên từng khách hàng và tổng giá trị tất cả đơn hàng mà họ đã đặt\n",
    "query = \"\"\"\n",
    "Select c.name,\n",
    "(Select SUM(p.price * ot.quantity)\n",
    "from orders o\n",
    "join order_items ot on o.id = ot.order_id\n",
    "join products p on ot.product_id = p.id\n",
    "where o.customer_id = c.id\n",
    ") as total_spent\n",
    "from customers c\n",
    "order by total_spent desc\n",
    "\"\"\"\n",
    "df  = pd.read_sql_query(query, connection)\n",
    "print(df)"
   ]
  },
  {
   "cell_type": "code",
   "execution_count": 12,
   "metadata": {},
   "outputs": [
    {
     "name": "stdout",
     "output_type": "stream",
     "text": [
      "  customer  total_value\n",
      "0      Bob      12000.0\n",
      "1    Alice       1300.0\n"
     ]
    },
    {
     "name": "stderr",
     "output_type": "stream",
     "text": [
      "C:\\Users\\AI LEARNER\\AppData\\Local\\Temp\\ipykernel_8684\\3466330411.py:13: UserWarning: pandas only supports SQLAlchemy connectable (engine/connection) or database string URI or sqlite3 DBAPI2 connection. Other DBAPI2 objects are not tested. Please consider using SQLAlchemy.\n",
      "  df  = pd.read_sql_query(query, connection)\n"
     ]
    }
   ],
   "source": [
    "#Hiển thị top 2 khách hàng dựa trên tổng giá trị tại bảng đơn hàng\n",
    "query = \"\"\"\n",
    "Select ts.customer, ts.total_value\n",
    "from (\n",
    "Select c.name as customer, SUM(total) as total_value\n",
    "from customers c\n",
    "join orders o on c.id = o.customer_id\n",
    "group by c.name\n",
    ") as ts\n",
    "order by ts.total_value desc\n",
    "limit 2\n",
    "\"\"\"\n",
    "df  = pd.read_sql_query(query, connection)\n",
    "print(df)\n",
    "\n"
   ]
  },
  {
   "cell_type": "code",
   "execution_count": 13,
   "metadata": {},
   "outputs": [
    {
     "name": "stdout",
     "output_type": "stream",
     "text": [
      "    name\n",
      "0  Frank\n"
     ]
    },
    {
     "name": "stderr",
     "output_type": "stream",
     "text": [
      "C:\\Users\\AI LEARNER\\AppData\\Local\\Temp\\ipykernel_8684\\2409964893.py:16: UserWarning: pandas only supports SQLAlchemy connectable (engine/connection) or database string URI or sqlite3 DBAPI2 connection. Other DBAPI2 objects are not tested. Please consider using SQLAlchemy.\n",
      "  df  = pd.read_sql_query(query, connection)\n"
     ]
    }
   ],
   "source": [
    "#Tìm tên nhân viên thuộc phòng Sales đã từng xử lý đơn hàng có chứa sản phẩm tên \"Monitor\".\n",
    "query = \"\"\"\n",
    "Select e.name\n",
    "from employees e\n",
    "where exists (\n",
    "    select 1\n",
    "    from order_assignments oa\n",
    "    join order_items ot on o.id = ot.order_id\n",
    "    join products p on ot.product_id = p.id\n",
    "    where p.name = 'Monitor' and oa.employee_id = e.id\n",
    ")\n",
    "\"\"\"\n",
    "df  = pd.read_sql_query(query, connection)\n",
    "print(df)"
   ]
  },
  {
   "cell_type": "code",
   "execution_count": 14,
   "metadata": {},
   "outputs": [
    {
     "name": "stdout",
     "output_type": "stream",
     "text": [
      "  name  total_spent\n",
      "0  Bob      12000.0\n"
     ]
    },
    {
     "name": "stderr",
     "output_type": "stream",
     "text": [
      "C:\\Users\\AI LEARNER\\AppData\\Local\\Temp\\ipykernel_8684\\748967161.py:12: UserWarning: pandas only supports SQLAlchemy connectable (engine/connection) or database string URI or sqlite3 DBAPI2 connection. Other DBAPI2 objects are not tested. Please consider using SQLAlchemy.\n",
      "  df  = pd.read_sql_query(query, connection)\n"
     ]
    }
   ],
   "source": [
    "#Tìm các khách hàng có tổng chi tiêu cao hơn mức trung bình của tất cả khách hàng\n",
    "query = \"\"\"\n",
    "Select c.name, SUM(o.total) as total_spent\n",
    "from customers c\n",
    "join orders o on c.id = o.customer_id\n",
    "group by c.name\n",
    "having SUM(o.total) > (\n",
    "    select AVG(total)\n",
    "    from orders\n",
    ")\n",
    "\"\"\"\n",
    "df  = pd.read_sql_query(query, connection)\n",
    "print(df)\n"
   ]
  },
  {
   "cell_type": "code",
   "execution_count": 17,
   "metadata": {},
   "outputs": [
    {
     "name": "stdout",
     "output_type": "stream",
     "text": [
      "    name  total_spent\n",
      "0  Alice       1300.0\n",
      "1    Bob      12000.0\n"
     ]
    },
    {
     "name": "stderr",
     "output_type": "stream",
     "text": [
      "C:\\Users\\AI LEARNER\\AppData\\Local\\Temp\\ipykernel_8684\\1026722189.py:10: UserWarning: pandas only supports SQLAlchemy connectable (engine/connection) or database string URI or sqlite3 DBAPI2 connection. Other DBAPI2 objects are not tested. Please consider using SQLAlchemy.\n",
      "  df = pd.read_sql_query(\"Select * from vip_customers\", connection)\n"
     ]
    }
   ],
   "source": [
    "#Tạo bảng tạm khách hàng VIP\n",
    "cursor.execute(\"\"\"\n",
    "Create temporary table vip_customers as\n",
    "Select c.name, SUM(o.total) as total_spent\n",
    "from customers c\n",
    "join orders o on c.id = o.customer_id\n",
    "group by c.name\n",
    "having total_spent > 1000\n",
    "\"\"\")\n",
    "df = pd.read_sql_query(\"Select * from vip_customers\", connection)\n",
    "print(df)"
   ]
  },
  {
   "cell_type": "code",
   "execution_count": 26,
   "metadata": {},
   "outputs": [
    {
     "name": "stdout",
     "output_type": "stream",
     "text": [
      "    name\n",
      "0  Mouse\n"
     ]
    },
    {
     "name": "stderr",
     "output_type": "stream",
     "text": [
      "C:\\Users\\AI LEARNER\\AppData\\Local\\Temp\\ipykernel_8684\\2820986695.py:9: UserWarning: pandas only supports SQLAlchemy connectable (engine/connection) or database string URI or sqlite3 DBAPI2 connection. Other DBAPI2 objects are not tested. Please consider using SQLAlchemy.\n",
      "  df = pd.read_sql_query(\"Select * from popular_products\", connection)\n"
     ]
    }
   ],
   "source": [
    "#Tạo bảng tạm sản phẩm phổ biến\n",
    "cursor.execute(\"\"\"\n",
    "Create temporary table popular_products as\n",
    "Select p.name\n",
    "from products p\n",
    "join order_items ot on p.id = ot.product_id\n",
    "where ot.quantity > 1\n",
    "\"\"\")\n",
    "df = pd.read_sql_query(\"Select * from popular_products\", connection)\n",
    "print(df)"
   ]
  },
  {
   "cell_type": "code",
   "execution_count": 36,
   "metadata": {},
   "outputs": [
    {
     "name": "stdout",
     "output_type": "stream",
     "text": [
      "  name\n",
      "0  Bob\n"
     ]
    },
    {
     "name": "stderr",
     "output_type": "stream",
     "text": [
      "C:\\Users\\AI LEARNER\\AppData\\Local\\Temp\\ipykernel_8684\\2468834202.py:21: UserWarning: pandas only supports SQLAlchemy connectable (engine/connection) or database string URI or sqlite3 DBAPI2 connection. Other DBAPI2 objects are not tested. Please consider using SQLAlchemy.\n",
      "  df = pd.read_sql_query(query, connection)\n"
     ]
    }
   ],
   "source": [
    "#Subquery lồng nhau nhiều cấp\n",
    "query = \"\"\"\n",
    "SELECT \n",
    "    c.name\n",
    "FROM customers c\n",
    "JOIN orders o ON c.id = o.customer_id\n",
    "JOIN order_assignments oa ON o.id = oa.order_id\n",
    "WHERE oa.employee_id IN (\n",
    "    SELECT employee_id\n",
    "    FROM (\n",
    "        SELECT e.id AS employee_id, SUM(o.total) AS total_sales\n",
    "        FROM employees e\n",
    "        JOIN order_assignments oa ON e.id = oa.employee_id\n",
    "        JOIN orders o ON oa.order_id = o.id\n",
    "        GROUP BY e.id\n",
    "        HAVING SUM(o.total) > 1000\n",
    "    ) AS top_sellers\n",
    ");\n",
    "\n",
    "\"\"\"\n",
    "df = pd.read_sql_query(query, connection)\n",
    "print(df)"
   ]
  },
  {
   "cell_type": "code",
   "execution_count": 17,
   "metadata": {},
   "outputs": [],
   "source": [
    "#Connect to database\n",
    "connection = mysql.connector.connect(\n",
    "    host=\"localhost\",\n",
    "    user=\"root\",\n",
    "    password=\"123#edc\",\n",
    "    database=\"aio.week.10\"\n",
    ")\n",
    "\n",
    "cursor = connection.cursor()\n"
   ]
  },
  {
   "cell_type": "code",
   "execution_count": 21,
   "metadata": {},
   "outputs": [
    {
     "name": "stdout",
     "output_type": "stream",
     "text": [
      "  name    total\n",
      "0  Bob  12000.0\n"
     ]
    },
    {
     "name": "stderr",
     "output_type": "stream",
     "text": [
      "C:\\Users\\AI LEARNER\\AppData\\Local\\Temp\\ipykernel_8312\\1393747831.py:14: UserWarning: pandas only supports SQLAlchemy connectable (engine/connection) or database string URI or sqlite3 DBAPI2 connection. Other DBAPI2 objects are not tested. Please consider using SQLAlchemy.\n",
      "  df = pd.read_sql_query(query, connection)\n"
     ]
    }
   ],
   "source": [
    "cursor.execute(\"\"\"\n",
    "Create temporary table high_value_orders as\n",
    "Select *\n",
    "from orders o\n",
    "where o.total > 800\n",
    "\"\"\")\n",
    "\n",
    "query = \"\"\"\n",
    "Select c.name, hvo.total\n",
    "from customers c\n",
    "join high_value_orders hvo on c.id = hvo.customer_id\n",
    "\"\"\"\n",
    "\n",
    "df = pd.read_sql_query(query, connection)\n",
    "print(df)"
   ]
  },
  {
   "cell_type": "code",
   "execution_count": 29,
   "metadata": {},
   "outputs": [
    {
     "name": "stdout",
     "output_type": "stream",
     "text": [
      "   product_id product_name  total_revenue\n",
      "0           1       Laptop         4500.0\n",
      "1           2        Mouse          100.0\n",
      "2           3     Keyboard          100.0\n",
      "3           4      Monitor            NaN\n"
     ]
    },
    {
     "name": "stderr",
     "output_type": "stream",
     "text": [
      "C:\\Users\\AI LEARNER\\AppData\\Local\\Temp\\ipykernel_8312\\3421429933.py:15: UserWarning: pandas only supports SQLAlchemy connectable (engine/connection) or database string URI or sqlite3 DBAPI2 connection. Other DBAPI2 objects are not tested. Please consider using SQLAlchemy.\n",
      "  df = pd.read_sql_query(query, connection)\n"
     ]
    }
   ],
   "source": [
    "#Tính tổng giá trị thực tế của từng đơn hàng bằng cách lấy price × quantity theo từng dòng sản phẩm.\n",
    "query = \"\"\"\n",
    "SELECT \n",
    "    p.id AS product_id,\n",
    "    p.name AS product_name,\n",
    "    (Select SUM(oi.quantity * p.price)\n",
    "    from order_items oi\n",
    "    join products p2 on oi.product_id = p2.id\n",
    "    where oi.order_id = p.id\n",
    "    ) as total_revenue\n",
    "FROM products p \n",
    "order by total_revenue desc\n",
    "\"\"\"\n",
    "\n",
    "df = pd.read_sql_query(query, connection)\n",
    "print(df)\n",
    "\n",
    "\n",
    "\n",
    "\n",
    "\n"
   ]
  },
  {
   "cell_type": "code",
   "execution_count": 30,
   "metadata": {},
   "outputs": [],
   "source": [
    "cursor.close()\n",
    "connection.close()"
   ]
  },
  {
   "cell_type": "code",
   "execution_count": null,
   "metadata": {},
   "outputs": [],
   "source": []
  }
 ],
 "metadata": {
  "kernelspec": {
   "display_name": "Python 3",
   "language": "python",
   "name": "python3"
  },
  "language_info": {
   "codemirror_mode": {
    "name": "ipython",
    "version": 3
   },
   "file_extension": ".py",
   "mimetype": "text/x-python",
   "name": "python",
   "nbconvert_exporter": "python",
   "pygments_lexer": "ipython3",
   "version": "3.11.9"
  }
 },
 "nbformat": 4,
 "nbformat_minor": 2
}
