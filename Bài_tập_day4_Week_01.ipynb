{
  "nbformat": 4,
  "nbformat_minor": 0,
  "metadata": {
    "colab": {
      "provenance": [],
      "authorship_tag": "ABX9TyNDP6HAQMF9Iy1/g0xOOSgT",
      "include_colab_link": true
    },
    "kernelspec": {
      "name": "python3",
      "display_name": "Python 3"
    },
    "language_info": {
      "name": "python"
    }
  },
  "cells": [
    {
      "cell_type": "markdown",
      "metadata": {
        "id": "view-in-github",
        "colab_type": "text"
      },
      "source": [
        "<a href=\"https://colab.research.google.com/github/dangnhatminh92/WarmUpcoding1/blob/main/B%C3%A0i_t%E1%BA%ADp_day4_Week_01.ipynb\" target=\"_parent\"><img src=\"https://colab.research.google.com/assets/colab-badge.svg\" alt=\"Open In Colab\"/></a>"
      ]
    },
    {
      "cell_type": "markdown",
      "source": [
        "# **Find divisible number**"
      ],
      "metadata": {
        "id": "-hpCnz_Y8jS6"
      }
    },
    {
      "cell_type": "code",
      "execution_count": 19,
      "metadata": {
        "colab": {
          "base_uri": "https://localhost:8080/"
        },
        "id": "PI4ag-5w5zWN",
        "outputId": "2a8d78b3-ea24-4557-fa92-c01964dccf34"
      },
      "outputs": [
        {
          "output_type": "stream",
          "name": "stdout",
          "text": [
            "105\n",
            "102\n"
          ]
        }
      ],
      "source": [
        "def find_divisible_number(a):\n",
        "  round = 1000\n",
        "  n = 0\n",
        "  while n < 1000:\n",
        "    n += 1\n",
        "    if n > 100 and n % a == 0:\n",
        "      print(n)\n",
        "      break\n",
        "\n",
        "\n",
        "# Test case\n",
        "result1 = find_divisible_number(5)\n",
        "result2 = find_divisible_number(17)"
      ]
    }
  ]
}