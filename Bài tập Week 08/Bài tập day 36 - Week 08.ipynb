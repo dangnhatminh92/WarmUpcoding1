{
 "cells": [
  {
   "cell_type": "code",
   "execution_count": 2,
   "metadata": {},
   "outputs": [],
   "source": [
    "import pandas as pd\n",
    "import mysql.connector"
   ]
  },
  {
   "cell_type": "code",
   "execution_count": 12,
   "metadata": {},
   "outputs": [],
   "source": [
    "# Connection to db\n",
    "connection = mysql.connector.connect(\n",
    "    host=\"localhost\",\n",
    "    user=\"root\",\n",
    "    password=\"123#edc\",\n",
    "    database=\"aio.week8\"\n",
    ")\n",
    "\n",
    "cursor = connection.cursor()\n",
    "\n",
    "# Create tables\n",
    "cursor.execute(\"DROP TABLE IF EXISTS OrderDetails;\")\n",
    "cursor.execute(\"DROP TABLE IF EXISTS Orders;\")\n",
    "cursor.execute(\"DROP TABLE IF EXISTS Customers;\")\n",
    "cursor.execute(\"DROP TABLE IF EXISTS Salespersons;\")\n",
    "cursor.execute(\"DROP TABLE IF EXISTS Products;\")\n",
    "\n",
    "\n",
    "cursor.execute(\"\"\"\n",
    "CREATE TABLE Products (\n",
    "               ProductID INT PRIMARY KEY, \n",
    "               ProductName VARCHAR(100), \n",
    "               Category VARCHAR(50), \n",
    "               Price DECIMAL(10,2), \n",
    "               StockQuantity INT\n",
    "               );\n",
    "\"\"\")\n",
    "\n",
    "cursor.execute(\"\"\"\n",
    "CREATE TABLE Customers (\n",
    "               CustomerID INT PRIMARY KEY,\n",
    "               FullName VARCHAR(100),\n",
    "               PhoneNumber VARCHAR(10) UNIQUE,\n",
    "               Email VARCHAR(100) UNIQUE\n",
    "               );\n",
    "\"\"\")\n",
    "\n",
    "cursor.execute(\"\"\"\n",
    "CREATE TABLE Salespersons (\n",
    "               SalespersonID INT PRIMARY KEY,\n",
    "               FullName VARCHAR(100),\n",
    "               PhoneNumber VARCHAR(10) UNIQUE\n",
    "               );\n",
    "\"\"\")\n",
    "\n",
    "cursor.execute(\"\"\"\n",
    "CREATE TABLE Orders (\n",
    "               OrderID INT PRIMARY KEY,\n",
    "               CustomerID INT,\n",
    "               SalespersonID INT,\n",
    "               OrderDate DATE,\n",
    "               TotalAmount DECIMAL(10,2),\n",
    "               FOREIGN KEY (CustomerID) REFERENCES Customers(CustomerID),\n",
    "               FOREIGN KEY (SalespersonID) REFERENCES Salespersons(SalespersonID)\n",
    "               );\n",
    "\n",
    "\"\"\")\n",
    "\n",
    "cursor.execute(\"\"\"  \n",
    "CREATE TABLE OrderDetails (\n",
    "               OrderDetailID INT PRIMARY KEY,\n",
    "               OrderID INT,\n",
    "               ProductID INT,\n",
    "               Quantity INT,\n",
    "               Subtotal DECIMAL(10,2),\n",
    "               FOREIGN KEY (OrderID) REFERENCES Orders(OrderID),\n",
    "               FOREIGN KEY (ProductID) REFERENCES Products(ProductID)\n",
    "               );\n",
    "\"\"\")\n",
    "\n",
    "connection.commit()\n",
    "cursor.close()\n",
    "connection.close()\n"
   ]
  },
  {
   "cell_type": "code",
   "execution_count": 16,
   "metadata": {},
   "outputs": [],
   "source": [
    "#Connection to db\n",
    "connection = mysql.connector.connect(\n",
    "    host=\"localhost\",\n",
    "    user=\"root\",\n",
    "    password=\"123#edc\",\n",
    "    database=\"aio.week8\"\n",
    ")\n",
    "\n",
    "cursor = connection.cursor()\n",
    "\n",
    "#Insert data into tables\n",
    "cursor.execute(\"\"\"\n",
    "INSERT INTO Products (ProductID, ProductName, Category, Price, StockQuantity)\n",
    "VALUES  \n",
    "(1, 'Laptop Dell XPS', 'Laptop', 25000000, 10),\n",
    "(2, 'iPhone14', 'Điện thoại', 22000000, 15),\n",
    "(3, 'Tai nghe Sony', 'Phụ kiện', 3000000, 20),\n",
    "(4, 'Bàn phím cơ', 'Phụ kiện', 1500000, 50),\n",
    "(5, 'Mac Book Air M2', 'Laptop', 28000000, 8)\n",
    "\"\"\")\n",
    "\n",
    "cursor.execute(\"\"\"\n",
    "INSERT INTO Customers (CustomerID, FullName, PhoneNumber, Email)\n",
    "VALUES  \n",
    "(1, 'Nguyễn Văn A', '0987654321', 'a@example.com'),\n",
    "(2, 'Trần Thị B', '0976543210', 'b@example.com'),\n",
    "(3, 'Lê Văn C', '0965432109', 'c@example.com'),\n",
    "(4, 'Phạm Thị D', '0945678123', 'd@example.com'),\n",
    "(5, 'Bùi Văn E', '0936789123 ', 'e@example.com')\n",
    "\"\"\")\n",
    "\n",
    "cursor.execute(\"\"\"\n",
    "INSERT INTO Salespersons (SalespersonID, FullName, PhoneNumber)\n",
    "VALUES \n",
    "(1, 'Lê Hoàng Nam', '0934567890'),\n",
    "(2, 'Trần Quốc Bảo', '0945678123'),\n",
    "(3, 'Nguyễn Minh Hà', '0956789123')\n",
    "\"\"\")\n",
    "\n",
    "cursor.execute(\"\"\"\n",
    "INSERT INTO Orders (OrderID, CustomerID, SalespersonID, OrderDate, TotalAmount)\n",
    "VALUES \n",
    "(1, 1, 1, '2024-03-10', 25000000),\n",
    "(2, 2, 2, '2024-03-11', 3000000),\n",
    "(3, 3, 3, '2024-03-12', 22000000)\n",
    "\"\"\")\n",
    "\n",
    "cursor.execute(\"\"\"\n",
    "INSERT INTO OrderDetails (OrderDetailID, OrderID, ProductID, Quantity, Subtotal)\n",
    "VALUES \n",
    "(1, 1, 1, 1, 25000000),\n",
    "(2, 2, 3, 1, 3000000),\n",
    "(3, 3, 2, 1, 22000000)\n",
    "\"\"\")\n",
    "\n",
    "connection.commit()\n",
    "cursor.close()\n",
    "connection.close()\n",
    "\n"
   ]
  },
  {
   "cell_type": "code",
   "execution_count": 3,
   "metadata": {},
   "outputs": [],
   "source": [
    "# Connection to db\n",
    "connection = mysql.connector.connect(\n",
    "    host=\"localhost\",\n",
    "    user=\"root\",\n",
    "    password=\"123#edc\",\n",
    "    database=\"aio.week8\"\n",
    ")\n",
    "\n",
    "cursor = connection.cursor()"
   ]
  },
  {
   "cell_type": "code",
   "execution_count": 21,
   "metadata": {},
   "outputs": [
    {
     "name": "stdout",
     "output_type": "stream",
     "text": [
      "       ProductName  StockQuantity\n",
      "0  Laptop Dell XPS             10\n",
      "1         iPhone14             15\n",
      "2    Tai nghe Sony             20\n",
      "3      Bàn phím cơ             50\n",
      "4  Mac Book Air M2              8\n"
     ]
    },
    {
     "name": "stderr",
     "output_type": "stream",
     "text": [
      "C:\\Users\\AI LEARNER\\AppData\\Local\\Temp\\ipykernel_7532\\1512897843.py:8: UserWarning: pandas only supports SQLAlchemy connectable (engine/connection) or database string URI or sqlite3 DBAPI2 connection. Other DBAPI2 objects are not tested. Please consider using SQLAlchemy.\n",
      "  query_result = pd.read_sql_query(query, connection)\n"
     ]
    }
   ],
   "source": [
    "#Truy vẫn tất cả sản phẩm còn hàng\n",
    "\n",
    "query = \"\"\"\n",
    "Select ProductName, StockQuantity From Products\n",
    "Where 1 = 1\n",
    "And StockQuantity > 0\n",
    "\"\"\"\n",
    "query_result = pd.read_sql_query(query, connection)\n",
    "print(query_result)"
   ]
  },
  {
   "cell_type": "code",
   "execution_count": 23,
   "metadata": {},
   "outputs": [
    {
     "name": "stdout",
     "output_type": "stream",
     "text": [
      "   OrderID  CustomerID  SalespersonID   OrderDate  TotalAmount\n",
      "0        1           1              1  2024-03-10   25000000.0\n"
     ]
    },
    {
     "name": "stderr",
     "output_type": "stream",
     "text": [
      "C:\\Users\\AI LEARNER\\AppData\\Local\\Temp\\ipykernel_7532\\1990883557.py:6: UserWarning: pandas only supports SQLAlchemy connectable (engine/connection) or database string URI or sqlite3 DBAPI2 connection. Other DBAPI2 objects are not tested. Please consider using SQLAlchemy.\n",
      "  query_result = pd.read_sql_query(query, connection)\n"
     ]
    }
   ],
   "source": [
    "#Truy vấn đơn hàng của khách hàng có CUstomerID = 1\n",
    "query = \"\"\"\n",
    "SELECT * FROM Orders\n",
    "WHERE CustomerID = 1\n",
    "\"\"\"\n",
    "query_result = pd.read_sql_query(query, connection)\n",
    "print(query_result)\n",
    "\n",
    "#Truy vấn tất cả sản phẩm đã bán\n",
    "\n"
   ]
  },
  {
   "cell_type": "code",
   "execution_count": 7,
   "metadata": {},
   "outputs": [
    {
     "name": "stdout",
     "output_type": "stream",
     "text": [
      "   SalespersonID        FullName  TotalSales\n",
      "0              1    Lê Hoàng Nam  25000000.0\n",
      "1              2   Trần Quốc Bảo   3000000.0\n",
      "2              3  Nguyễn Minh Hà  22000000.0\n"
     ]
    },
    {
     "name": "stderr",
     "output_type": "stream",
     "text": [
      "C:\\Users\\AI LEARNER\\AppData\\Local\\Temp\\ipykernel_15716\\1266345069.py:8: UserWarning: pandas only supports SQLAlchemy connectable (engine/connection) or database string URI or sqlite3 DBAPI2 connection. Other DBAPI2 objects are not tested. Please consider using SQLAlchemy.\n",
      "  query_result = pd.read_sql_query(query, connection)\n"
     ]
    }
   ],
   "source": [
    "# Truy vấn tổng doanh số của từng nhân viên\n",
    "query = \"\"\"\n",
    "SELECT s.SalespersonID, s.FullName, SUM(o.TotalAmount) AS TotalSales\n",
    "FROM Salespersons s\n",
    "JOIN Orders o ON s.SalespersonID = o.SalespersonID\n",
    "GROUP BY s.SalespersonID, s.FullName;\n",
    "\"\"\"\n",
    "query_result = pd.read_sql_query(query, connection)\n",
    "print(query_result)\n",
    "\n",
    "\n"
   ]
  },
  {
   "cell_type": "code",
   "execution_count": 9,
   "metadata": {},
   "outputs": [
    {
     "name": "stdout",
     "output_type": "stream",
     "text": [
      "   SalespersonID      FullName  TotalSales\n",
      "0              1  Lê Hoàng Nam  25000000.0\n"
     ]
    },
    {
     "name": "stderr",
     "output_type": "stream",
     "text": [
      "C:\\Users\\AI LEARNER\\AppData\\Local\\Temp\\ipykernel_15716\\385196771.py:11: UserWarning: pandas only supports SQLAlchemy connectable (engine/connection) or database string URI or sqlite3 DBAPI2 connection. Other DBAPI2 objects are not tested. Please consider using SQLAlchemy.\n",
      "  query_result = pd.read_sql_query(query, connection)\n"
     ]
    }
   ],
   "source": [
    "# Nhân viên bán hàng có tổng doanh số cao nhất\n",
    "\n",
    "query = \"\"\"\n",
    "Select s.SalespersonID, s.FullName, SUM(o.TotalAmount) AS TotalSales\n",
    "From Salespersons s\n",
    "Join Orders o ON s.SalespersonID = o.SalespersonID\n",
    "Group by s.SalespersonID, s.FullName\n",
    "Order by TotalSales DESC\n",
    "Limit 1;\n",
    "\"\"\"\n",
    "query_result = pd.read_sql_query(query, connection)\n",
    "print(query_result)\n",
    "\n",
    "\n"
   ]
  },
  {
   "cell_type": "code",
   "execution_count": 13,
   "metadata": {},
   "outputs": [
    {
     "name": "stdout",
     "output_type": "stream",
     "text": [
      "     Category       Price  Quantity  TotalRevenue\n",
      "0      Laptop  25000000.0         1    25000000.0\n",
      "1    Phụ kiện   3000000.0         1     3000000.0\n",
      "2  Điện thoại  22000000.0         1    22000000.0\n"
     ]
    },
    {
     "name": "stderr",
     "output_type": "stream",
     "text": [
      "C:\\Users\\AI LEARNER\\AppData\\Local\\Temp\\ipykernel_15716\\1083861705.py:8: UserWarning: pandas only supports SQLAlchemy connectable (engine/connection) or database string URI or sqlite3 DBAPI2 connection. Other DBAPI2 objects are not tested. Please consider using SQLAlchemy.\n",
      "  query_result = pd.read_sql_query(query, connection)\n"
     ]
    }
   ],
   "source": [
    "# Tính tổng doanh thu theo từng danh mục sản phẩm\n",
    "query = \"\"\"\n",
    "Select p.Category, p.Price, od.Quantity, SUM(p.Price * od.Quantity) AS TotalRevenue\n",
    "from Products p\n",
    "join OrderDetails od ON p.ProductID = od.ProductID\n",
    "group by p.Category, p.Price, od.Quantity;\n",
    "\"\"\"\n",
    "query_result = pd.read_sql_query(query, connection)\n",
    "print(query_result)"
   ]
  },
  {
   "cell_type": "code",
   "execution_count": 14,
   "metadata": {},
   "outputs": [
    {
     "name": "stdout",
     "output_type": "stream",
     "text": [
      "   CustomerID      FullName          Email  TotalSpend\n",
      "0           1  Nguyễn Văn A  a@example.com  25000000.0\n",
      "1           3      Lê Văn C  c@example.com  22000000.0\n",
      "2           2    Trần Thị B  b@example.com   3000000.0\n"
     ]
    },
    {
     "name": "stderr",
     "output_type": "stream",
     "text": [
      "C:\\Users\\AI LEARNER\\AppData\\Local\\Temp\\ipykernel_15716\\802739089.py:10: UserWarning: pandas only supports SQLAlchemy connectable (engine/connection) or database string URI or sqlite3 DBAPI2 connection. Other DBAPI2 objects are not tested. Please consider using SQLAlchemy.\n",
      "  query_result = pd.read_sql_query(query, connection)\n"
     ]
    }
   ],
   "source": [
    "#Top 3 khách hàng có tổng chi tiêu cao nhất\n",
    "query = \"\"\"\n",
    "Select c.CustomerID, C.FullName, c.Email, Sum(o.TotalAmount) AS TotalSpend\n",
    "From Customers c\n",
    "Join Orders o ON c.CustomerID = o.CustomerID\n",
    "Group by c.CustomerID, c.FullName, c.Email\n",
    "Order by TotalSpend DESC\n",
    "Limit 3;\n",
    "\"\"\"\n",
    "query_result = pd.read_sql_query(query, connection)\n",
    "print(query_result)\n",
    "\n",
    "\n"
   ]
  },
  {
   "cell_type": "code",
   "execution_count": 18,
   "metadata": {},
   "outputs": [
    {
     "name": "stdout",
     "output_type": "stream",
     "text": [
      "    OrderDate  ProductID  TotalRevenue\n",
      "0  2024-03-10          1    25000000.0\n"
     ]
    },
    {
     "name": "stderr",
     "output_type": "stream",
     "text": [
      "C:\\Users\\AI LEARNER\\AppData\\Local\\Temp\\ipykernel_15716\\3260589108.py:11: UserWarning: pandas only supports SQLAlchemy connectable (engine/connection) or database string URI or sqlite3 DBAPI2 connection. Other DBAPI2 objects are not tested. Please consider using SQLAlchemy.\n",
      "  query_result = pd.read_sql_query(query, connection)\n"
     ]
    }
   ],
   "source": [
    "# Tìm tháng có doanh thu cao nhất\n",
    "query = \"\"\"\n",
    "Select o.OrderDate, od.ProductID, SUM(p.Price * od.Quantity) AS TotalRevenue\n",
    "from Orders o\n",
    "Join OrderDetails od ON o.OrderID = od.OrderID\n",
    "Join Products p ON od.ProductID = p.ProductID\n",
    "Group by o.OrderDate, od.ProductID\n",
    "Order by TotalRevenue DESC\n",
    "Limit 1;\n",
    "\"\"\"\n",
    "query_result = pd.read_sql_query(query, connection)\n",
    "print(query_result)\n",
    "\n",
    "\n"
   ]
  },
  {
   "cell_type": "code",
   "execution_count": 21,
   "metadata": {},
   "outputs": [
    {
     "name": "stdout",
     "output_type": "stream",
     "text": [
      "       ProductName  TotalQuantity\n",
      "0  Laptop Dell XPS            1.0\n",
      "1    Tai nghe Sony            1.0\n",
      "2         iPhone14            1.0\n"
     ]
    },
    {
     "name": "stderr",
     "output_type": "stream",
     "text": [
      "C:\\Users\\AI LEARNER\\AppData\\Local\\Temp\\ipykernel_15716\\815789283.py:11: UserWarning: pandas only supports SQLAlchemy connectable (engine/connection) or database string URI or sqlite3 DBAPI2 connection. Other DBAPI2 objects are not tested. Please consider using SQLAlchemy.\n",
      "  query_result = pd.read_sql_query(query, connection)\n"
     ]
    }
   ],
   "source": [
    "# Tìm tháng bán chạy nhất theo số lượng\n",
    "\n",
    "query = \"\"\"\n",
    "Select p.ProductName, SUM(od.Quantity) AS TotalQuantity\n",
    "from OrderDetails od\n",
    "Join Products p ON od.ProductID = p.ProductID\n",
    "Group by p.ProductName\n",
    "Order by TotalQuantity DESC\n",
    "Limit 3;\n",
    "\"\"\"\n",
    "query_result = pd.read_sql_query(query, connection)\n",
    "print(query_result)\n",
    "\n"
   ]
  },
  {
   "cell_type": "code",
   "execution_count": null,
   "metadata": {},
   "outputs": [],
   "source": []
  },
  {
   "cell_type": "code",
   "execution_count": null,
   "metadata": {},
   "outputs": [],
   "source": []
  }
 ],
 "metadata": {
  "kernelspec": {
   "display_name": "Python 3",
   "language": "python",
   "name": "python3"
  },
  "language_info": {
   "codemirror_mode": {
    "name": "ipython",
    "version": 3
   },
   "file_extension": ".py",
   "mimetype": "text/x-python",
   "name": "python",
   "nbconvert_exporter": "python",
   "pygments_lexer": "ipython3",
   "version": "3.13.2"
  }
 },
 "nbformat": 4,
 "nbformat_minor": 2
}
