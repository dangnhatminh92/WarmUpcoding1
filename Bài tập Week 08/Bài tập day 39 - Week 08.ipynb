{
 "cells": [
  {
   "cell_type": "code",
   "execution_count": 1,
   "metadata": {},
   "outputs": [],
   "source": [
    "def compute_median(list_of_numbers):\n",
    "    sorted_numbers = sorted(list_of_numbers)\n",
    "    n = len(sorted_numbers)\n",
    "    if n % 2 == 0:\n",
    "        return (sorted_numbers[n//2 - 1] + sorted_numbers[n//2]) / 2\n",
    "    else:\n",
    "        return sorted_numbers[n//2]\n",
    "\n",
    "def compute_outlier(q1,q3):\n",
    "    iqr = q3 - q1\n",
    "    lower_bound = q1 - 1.5 * iqr\n",
    "    upper_bound = q3 + 1.5 * iqr\n",
    "    return lower_bound, upper_bound\n",
    "\n",
    "def show_outlier(data,lower_bound,upper_bound):\n",
    "    outlier = [x for x in data if x < lower_bound or x > upper_bound]\n",
    "    return outlier\n"
   ]
  },
  {
   "cell_type": "code",
   "execution_count": 18,
   "metadata": {},
   "outputs": [
    {
     "name": "stdout",
     "output_type": "stream",
     "text": [
      "Giá trị IQR lower and upper bound: -6.0 , 26.0\n",
      "Giá trị ngoại lai là: Không tồn tại giá trị ngoại lai\n"
     ]
    }
   ],
   "source": [
    "# Bài tập 01\n",
    "data = [3 , 7 , 8 , 5 , 12 , 14 , 21 , 13 , 18]\n",
    "\n",
    "q2 = compute_median(data)\n",
    "q1 = compute_median(data[:len(data)//2])\n",
    "q3 = compute_median(data[len(data)//2:])\n",
    "\n",
    "lower_bound, upper_bound = compute_outlier(q1,q3)\n",
    "print(f\"Giá trị IQR lower and upper bound: {lower_bound} , {upper_bound}\")\n",
    "\n",
    "outlier_value = show_outlier(data,lower_bound,upper_bound)\n",
    "\n",
    "print(f\"Giá trị ngoại lai là: {outlier_value if len(outlier_value) > 0 else 'Không tồn tại giá trị ngoại lai'}\")\n"
   ]
  },
  {
   "cell_type": "code",
   "execution_count": 19,
   "metadata": {},
   "outputs": [
    {
     "name": "stdout",
     "output_type": "stream",
     "text": [
      "Giá trị IQR lower and upper bound: -9.5 , 34.5\n",
      "Giá trị ngoại lai là: [100]\n"
     ]
    }
   ],
   "source": [
    "# Bài tập 02\n",
    "data = [3 , 5 , 7 , 8 , 12 , 13 , 14 , 18 , 21 , 100]\n",
    "q2 = compute_median(data)\n",
    "q1 = compute_median(data[:len(data)//2])\n",
    "q3 = compute_median(data[len(data)//2:])\n",
    "\n",
    "lower_bound, upper_bound = compute_outlier(q1,q3)\n",
    "\n",
    "outlier_value = show_outlier(data,lower_bound,upper_bound)\n",
    "\n",
    "print(f\"Giá trị IQR lower and upper bound: {lower_bound} , {upper_bound}\")\n",
    "print(f\"Giá trị ngoại lai là: {outlier_value if len(outlier_value) > 0 else 'Không tồn tại giá trị ngoại lai'}\")\n"
   ]
  },
  {
   "cell_type": "code",
   "execution_count": 20,
   "metadata": {},
   "outputs": [
    {
     "name": "stdout",
     "output_type": "stream",
     "text": [
      "Giá trị ngoại lai là: [300]\n"
     ]
    },
    {
     "data": {
      "text/html": [
       "<div>\n",
       "<style scoped>\n",
       "    .dataframe tbody tr th:only-of-type {\n",
       "        vertical-align: middle;\n",
       "    }\n",
       "\n",
       "    .dataframe tbody tr th {\n",
       "        vertical-align: top;\n",
       "    }\n",
       "\n",
       "    .dataframe thead th {\n",
       "        text-align: right;\n",
       "    }\n",
       "</style>\n",
       "<table border=\"1\" class=\"dataframe\">\n",
       "  <thead>\n",
       "    <tr style=\"text-align: right;\">\n",
       "      <th></th>\n",
       "      <th>score</th>\n",
       "    </tr>\n",
       "  </thead>\n",
       "  <tbody>\n",
       "    <tr>\n",
       "      <th>0</th>\n",
       "      <td>55</td>\n",
       "    </tr>\n",
       "    <tr>\n",
       "      <th>9</th>\n",
       "      <td>58</td>\n",
       "    </tr>\n",
       "    <tr>\n",
       "      <th>1</th>\n",
       "      <td>61</td>\n",
       "    </tr>\n",
       "    <tr>\n",
       "      <th>3</th>\n",
       "      <td>65</td>\n",
       "    </tr>\n",
       "    <tr>\n",
       "      <th>4</th>\n",
       "      <td>68</td>\n",
       "    </tr>\n",
       "    <tr>\n",
       "      <th>2</th>\n",
       "      <td>70</td>\n",
       "    </tr>\n",
       "    <tr>\n",
       "      <th>5</th>\n",
       "      <td>90</td>\n",
       "    </tr>\n",
       "    <tr>\n",
       "      <th>6</th>\n",
       "      <td>91</td>\n",
       "    </tr>\n",
       "    <tr>\n",
       "      <th>7</th>\n",
       "      <td>94</td>\n",
       "    </tr>\n",
       "  </tbody>\n",
       "</table>\n",
       "</div>"
      ],
      "text/plain": [
       "   score\n",
       "0     55\n",
       "9     58\n",
       "1     61\n",
       "3     65\n",
       "4     68\n",
       "2     70\n",
       "5     90\n",
       "6     91\n",
       "7     94"
      ]
     },
     "execution_count": 20,
     "metadata": {},
     "output_type": "execute_result"
    }
   ],
   "source": [
    "import pandas as pd\n",
    "df = pd.DataFrame({'score': [55 , 61 , 70 , 65 , 68 , 90 , 91 , 94 , 300 , 58]})\n",
    "df  = df.sort_values(by='score', ascending=True)\n",
    "\n",
    "q2 = compute_median(df['score'])\n",
    "q1 = compute_median(df['score'][:len(df['score'])//2])\n",
    "q3 = compute_median(df['score'][len(df['score'])//2:])\n",
    "\n",
    "lower_bound, upper_bound = compute_outlier(q1,q3)\n",
    "\n",
    "outlier_value = show_outlier(df['score'],lower_bound,upper_bound)\n",
    "\n",
    "print(f\"Giá trị ngoại lai là: {outlier_value if len(outlier_value) > 0 else 'Không tồn tại giá trị ngoại lai'}\")\n",
    "\n",
    "df01 = df[(df['score'] > lower_bound) & (df['score'] < upper_bound)]\n",
    "\n",
    "df01\n",
    "\n"
   ]
  }
 ],
 "metadata": {
  "kernelspec": {
   "display_name": "Python 3",
   "language": "python",
   "name": "python3"
  },
  "language_info": {
   "codemirror_mode": {
    "name": "ipython",
    "version": 3
   },
   "file_extension": ".py",
   "mimetype": "text/x-python",
   "name": "python",
   "nbconvert_exporter": "python",
   "pygments_lexer": "ipython3",
   "version": "3.13.2"
  }
 },
 "nbformat": 4,
 "nbformat_minor": 2
}
