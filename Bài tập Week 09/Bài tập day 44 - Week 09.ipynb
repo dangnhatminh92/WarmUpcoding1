{
 "cells": [
  {
   "cell_type": "code",
   "execution_count": 2,
   "metadata": {},
   "outputs": [],
   "source": [
    "import mysql.connector\n",
    "import pandas as pd"
   ]
  },
  {
   "cell_type": "code",
   "execution_count": 3,
   "metadata": {},
   "outputs": [],
   "source": [
    "# Connect to the database\n",
    "connection = mysql.connector.connect(\n",
    "    host=\"localhost\",\n",
    "    user=\"root\",\n",
    "    password=\"123#edc\",\n",
    "    database=\"aio_week_9\"\n",
    ")\n",
    "\n",
    "cursor = connection.cursor()"
   ]
  },
  {
   "cell_type": "code",
   "execution_count": 4,
   "metadata": {},
   "outputs": [
    {
     "name": "stdout",
     "output_type": "stream",
     "text": [
      "Tables created successfully\n"
     ]
    }
   ],
   "source": [
    "#Create tables\n",
    "cursor.execute(\"\"\"\n",
    "CREATE TABLE IF NOT EXISTS Agents(\n",
    "    agentID VARCHAR(5) PRIMARY KEY, \n",
    "    agentName VARCHAR(30),\n",
    "    llmmodel VARCHAR(30)\n",
    ");\n",
    "\"\"\")\n",
    "cursor.execute(\"\"\"\n",
    "CREATE TABLE IF NOT EXISTS Tasks(\n",
    "    taskID VARCHAR(5) PRIMARY KEY, \n",
    "    taskName VARCHAR(20),\n",
    "    taskType VARCHAR(20)\n",
    ");\n",
    "\"\"\")\n",
    "cursor.execute(\"\"\"\n",
    "CREATE TABLE IF NOT EXISTS TaskDetails(\n",
    "    taskDetailID INT PRIMARY KEY,\n",
    "    taskID VARCHAR(5),\n",
    "    agentID VARCHAR(5),\n",
    "    FOREIGN KEY (agentID) REFERENCES Agents(agentID),\n",
    "    FOREIGN KEY (taskID) REFERENCES Tasks(taskID)\n",
    ");\n",
    "\"\"\")\n",
    "\n",
    "print(\"Tables created successfully\")\n",
    "connection.commit()\n",
    "cursor.close()\n",
    "connection.close()\n"
   ]
  },
  {
   "cell_type": "code",
   "execution_count": 6,
   "metadata": {},
   "outputs": [
    {
     "name": "stdout",
     "output_type": "stream",
     "text": [
      "Data inserted successfully\n"
     ]
    }
   ],
   "source": [
    "#Insert data into the tables\n",
    "# Connect to the database\n",
    "connection = mysql.connector.connect(\n",
    "    host=\"localhost\",\n",
    "    user=\"root\",\n",
    "    password=\"123#edc\",\n",
    "    database=\"aio_week_9\"\n",
    ")\n",
    "\n",
    "cursor = connection.cursor()\n",
    "\n",
    "cursor.execute(\"\"\"\n",
    "INSERT INTO Agents (agentID, agentName, llmmodel) \n",
    "VALUES \n",
    "               ('A01', 'Claude Agent', 'Claude 3'),\n",
    "               ('A02', 'GPT Assistant', 'GPT-4'),\n",
    "               ('A03', 'Gemini Helper', 'Gemini 1.5');\n",
    "\"\"\")\n",
    "\n",
    "cursor.execute(\"\"\"\n",
    "INSERT INTO Tasks (taskID, taskName, taskType)\n",
    "VALUES \n",
    "               ('T01', 'Summarization', 'NLP'),\n",
    "               ('T02', 'SQL Generation', 'Code'),\n",
    "               ('T03', 'Sentiment Analysis', 'NLP');\n",
    "\"\"\")\n",
    "\n",
    "cursor.execute(\"\"\"\n",
    "INSERT INTO TaskDetails (taskDetailID, taskID, agentID)\n",
    "VALUES \n",
    "               (1, 'T01', 'A01'),\n",
    "               (2, 'T02', 'A02'),\n",
    "               (3, 'T03', 'A01'),\n",
    "               (4, 'T01', 'A03');        \n",
    "\"\"\")\n",
    "\n",
    "print(\"Data inserted successfully\")\n",
    "connection.commit()\n",
    "cursor.close()\n",
    "connection.close()\n"
   ]
  },
  {
   "cell_type": "code",
   "execution_count": 10,
   "metadata": {},
   "outputs": [
    {
     "name": "stdout",
     "output_type": "stream",
     "text": [
      "             taskName      agentName\n",
      "0       Summarization   Claude Agent\n",
      "1       Summarization  Gemini Helper\n",
      "2      SQL Generation  GPT Assistant\n",
      "3  Sentiment Analysis   Claude Agent\n"
     ]
    },
    {
     "name": "stderr",
     "output_type": "stream",
     "text": [
      "C:\\Users\\AI LEARNER\\AppData\\Local\\Temp\\ipykernel_1452\\2874691058.py:19: UserWarning: pandas only supports SQLAlchemy connectable (engine/connection) or database string URI or sqlite3 DBAPI2 connection. Other DBAPI2 objects are not tested. Please consider using SQLAlchemy.\n",
      "  results = pd.read_sql(query, connection)\n"
     ]
    }
   ],
   "source": [
    "# Connect to the database\n",
    "connection = mysql.connector.connect(\n",
    "    host=\"localhost\",\n",
    "    user=\"root\",\n",
    "    password=\"123#edc\",\n",
    "    database=\"aio_week_9\"\n",
    ")\n",
    "\n",
    "cursor = connection.cursor()\n",
    "# Lấy tên task và tên agent thực hiện task đó\n",
    "\n",
    "query =\"\"\"\n",
    "SELECT t.taskName, a.agentName\n",
    "FROM Tasks t\n",
    "JOIN TaskDetails td ON t.taskID = td.taskID\n",
    "JOIN Agents a ON td.agentID = a.agentID;\n",
    "\"\"\"\n",
    "\n",
    "results = pd.read_sql(query, connection)\n",
    "\n",
    "print(results)"
   ]
  },
  {
   "cell_type": "code",
   "execution_count": 13,
   "metadata": {},
   "outputs": [
    {
     "name": "stdout",
     "output_type": "stream",
     "text": [
      "     llmmodel\n",
      "0    Claude 3\n",
      "1       GPT-4\n",
      "2  Gemini 1.5\n"
     ]
    },
    {
     "name": "stderr",
     "output_type": "stream",
     "text": [
      "C:\\Users\\AI LEARNER\\AppData\\Local\\Temp\\ipykernel_1452\\602597681.py:7: UserWarning: pandas only supports SQLAlchemy connectable (engine/connection) or database string URI or sqlite3 DBAPI2 connection. Other DBAPI2 objects are not tested. Please consider using SQLAlchemy.\n",
      "  results = pd.read_sql(query, connection)\n"
     ]
    }
   ],
   "source": [
    "# Lấy danh sách các llm dang sử dụng\n",
    "query = \"\"\"\n",
    "SELECT llmmodel\n",
    "FROM Agents;\n",
    "\"\"\"\n",
    "\n",
    "results = pd.read_sql(query, connection)\n",
    "\n",
    "print(results)"
   ]
  },
  {
   "cell_type": "code",
   "execution_count": 17,
   "metadata": {},
   "outputs": [
    {
     "name": "stdout",
     "output_type": "stream",
     "text": [
      "  taskType  taskCount\n",
      "0     Code          1\n",
      "1      NLP          2\n"
     ]
    },
    {
     "name": "stderr",
     "output_type": "stream",
     "text": [
      "C:\\Users\\AI LEARNER\\AppData\\Local\\Temp\\ipykernel_1452\\473601442.py:9: UserWarning: pandas only supports SQLAlchemy connectable (engine/connection) or database string URI or sqlite3 DBAPI2 connection. Other DBAPI2 objects are not tested. Please consider using SQLAlchemy.\n",
      "  results = pd.read_sql(query, connection)\n"
     ]
    }
   ],
   "source": [
    "# Đém só tác vụ thuộc mỗi loại \n",
    "query = \"\"\"\n",
    "SELECT taskType, COUNT(*) as taskCount\n",
    "FROM Tasks\n",
    "GROUP BY taskType\n",
    "ORDER BY taskType ASC;\n",
    "\"\"\"\n",
    "\n",
    "results = pd.read_sql(query, connection)\n",
    "print(results)\n"
   ]
  },
  {
   "cell_type": "code",
   "execution_count": 18,
   "metadata": {},
   "outputs": [
    {
     "name": "stdout",
     "output_type": "stream",
     "text": [
      "       AgentName\n",
      "0  GPT Assistant\n",
      "1  Gemini Helper\n"
     ]
    },
    {
     "name": "stderr",
     "output_type": "stream",
     "text": [
      "C:\\Users\\AI LEARNER\\AppData\\Local\\Temp\\ipykernel_1452\\3584882418.py:9: UserWarning: pandas only supports SQLAlchemy connectable (engine/connection) or database string URI or sqlite3 DBAPI2 connection. Other DBAPI2 objects are not tested. Please consider using SQLAlchemy.\n",
      "  results = pd.read_sql(query, connection)\n"
     ]
    }
   ],
   "source": [
    "# Tìm các Agent có tên bắt đầu là chữ G\n",
    "\n",
    "query = \"\"\"\n",
    "Select AgentName\n",
    "From Agents\n",
    "Where AgentName Like 'G%';\n",
    "\"\"\"\n",
    "\n",
    "results = pd.read_sql(query, connection)\n",
    "print(results)\n"
   ]
  }
 ],
 "metadata": {
  "kernelspec": {
   "display_name": "Python 3",
   "language": "python",
   "name": "python3"
  },
  "language_info": {
   "codemirror_mode": {
    "name": "ipython",
    "version": 3
   },
   "file_extension": ".py",
   "mimetype": "text/x-python",
   "name": "python",
   "nbconvert_exporter": "python",
   "pygments_lexer": "ipython3",
   "version": "3.11.9"
  }
 },
 "nbformat": 4,
 "nbformat_minor": 2
}
