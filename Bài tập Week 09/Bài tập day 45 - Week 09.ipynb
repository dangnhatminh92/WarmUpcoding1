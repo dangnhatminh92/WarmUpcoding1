{
 "cells": [
  {
   "cell_type": "code",
   "execution_count": 2,
   "metadata": {},
   "outputs": [],
   "source": [
    "import mysql.connector  \n",
    "import pandas as pd"
   ]
  },
  {
   "cell_type": "code",
   "execution_count": 16,
   "metadata": {},
   "outputs": [
    {
     "name": "stdout",
     "output_type": "stream",
     "text": [
      "Tables created successfully\n"
     ]
    }
   ],
   "source": [
    "# Connect to the database\n",
    "connection = mysql.connector.connect(\n",
    "    host=\"localhost\",\n",
    "    user=\"root\",\n",
    "    password=\"123#edc\",\n",
    "    database=\"aio_week_9\"\n",
    ")\n",
    "\n",
    "cursor = connection.cursor()\n",
    "\n",
    "# Create tables\n",
    "cursor.execute(\"\"\"\n",
    "CREATE TABLE IF NOT EXISTS CustomersWarehouse(\n",
    "    customerID VARCHAR(5) PRIMARY KEY, \n",
    "    fullName VARCHAR(30)\n",
    ");\n",
    "\"\"\")\n",
    "\n",
    "cursor.execute(\"\"\"\n",
    "CREATE TABLE IF NOT EXISTS Item(\n",
    "    itemID VARCHAR(5) PRIMARY KEY, \n",
    "    itemName VARCHAR(20)\n",
    ");\n",
    "\"\"\")\n",
    "\n",
    "cursor.execute(\"\"\"\n",
    "CREATE TABLE IF NOT EXISTS Staffs(\n",
    "    staffID VARCHAR(5) PRIMARY KEY, \n",
    "    fullName VARCHAR(30)\n",
    ");            \n",
    "\"\"\")\n",
    "\n",
    "cursor.execute(\"\"\"\n",
    "CREATE TABLE IF NOT EXISTS Warehouse(\n",
    "    warehouseID VARCHAR(5) PRIMARY KEY, \n",
    "    warehouseName VARCHAR(20)\n",
    ");   \n",
    "\"\"\")\n",
    "\n",
    "\n",
    "cursor.execute(\"\"\"\n",
    "CREATE TABLE IF NOT EXISTS Records(\n",
    "    recordID VARCHAR(5) PRIMARY KEY, \n",
    "    itemID VARCHAR(5),\n",
    "    warehouseID VARCHAR(5),\n",
    "    customerID VARCHAR(5),\n",
    "    staffID VARCHAR(5),\n",
    "    quantity INT,\n",
    "    location VARCHAR(20)\n",
    "    FOREIGN KEY (itemID) REFERENCES Item(itemID),\n",
    "    FOREIGN KEY (warehouseID) REFERENCES Warehouse(warehouseID),\n",
    "    FOREIGN KEY (customerID) REFERENCES CustomersWarehouse(customerID),\n",
    "    FOREIGN KEY (staffID) REFERENCES Staffs(staffID)\n",
    ");\n",
    "\"\"\")\n",
    "\n",
    "print(\"Tables created successfully\")\n",
    "connection.commit()\n",
    "cursor.close()\n",
    "connection.close()"
   ]
  },
  {
   "cell_type": "code",
   "execution_count": 3,
   "metadata": {},
   "outputs": [
    {
     "name": "stdout",
     "output_type": "stream",
     "text": [
      "Data inserted successfully\n"
     ]
    }
   ],
   "source": [
    "# Connect to the database\n",
    "connection = mysql.connector.connect(\n",
    "    host=\"localhost\",\n",
    "    user=\"root\",\n",
    "    password=\"123#edc\",\n",
    "    database=\"aio_week_9\"\n",
    ")\n",
    "\n",
    "cursor = connection.cursor()\n",
    "\n",
    "#Insert data into the tables\n",
    "cursor.execute(\"\"\"\n",
    "INSERT INTO CustomersWarehouse (customerID, fullName) \n",
    "VALUES ('C001', 'Mekong Corp'),\n",
    "       ('C002', 'Vina Auto' ),\n",
    "       ('C003', 'Delta Co');\n",
    "\"\"\")\n",
    "\n",
    "cursor.execute(\"\"\"\n",
    "INSERT INTO Item (itemID, itemName)\n",
    "VALUES ('IT001', 'Motor Oil 5L'),\n",
    "       ('IT002', 'Engine Cleaner'),\n",
    "       ('IT003', 'Battery 12V');\n",
    "\"\"\")\n",
    "\n",
    "cursor.execute(\"\"\"\n",
    "INSERT INTO Staffs (staffID, fullName)\n",
    "VALUES ('S01', 'Hoa Nguyen'),\n",
    "       ('S02', 'Khang Tran');  \n",
    "\"\"\")\n",
    "\n",
    "cursor.execute(\"\"\"\n",
    "INSERT INTO Warehouse (warehouseID, warehouseName)\n",
    "VALUES ('WH01', 'Main Warehouse'),\n",
    "       ('WH02', 'North Depot');\n",
    "\"\"\")\n",
    "\n",
    "cursor.execute(\"\"\"\n",
    "INSERT INTO Records (recordID, itemID, warehouseID, customerID, staffID, quantity, location)\n",
    "VALUES ('R001', 'IT001', 'WH01', 'C001', 'S01', 50, 'Shelf A1'),\n",
    "       ('R002', 'IT002', 'WH01', 'C002', 'S02', 30, 'Shelf B2'),\n",
    "       ('R003', 'IT001', 'WH02', 'C001', 'S01', 40, 'Shelf C3'), \n",
    "       ('R004', 'IT003', 'WH01', 'C003', 'S02', 25, 'Shelf A1');\n",
    "\"\"\")\n",
    "\n",
    "print(\"Data inserted successfully\")\n",
    "connection.commit()\n",
    "cursor.close()\n",
    "connection.close()"
   ]
  },
  {
   "cell_type": "code",
   "execution_count": 5,
   "metadata": {},
   "outputs": [],
   "source": [
    "# Connect to the database\n",
    "connection = mysql.connector.connect(\n",
    "    host=\"localhost\",\n",
    "    user=\"root\",\n",
    "    password=\"123#edc\",\n",
    "    database=\"aio_week_9\"\n",
    ")\n",
    "\n",
    "cursor = connection.cursor()"
   ]
  },
  {
   "cell_type": "code",
   "execution_count": 7,
   "metadata": {},
   "outputs": [
    {
     "name": "stdout",
     "output_type": "stream",
     "text": [
      "         itemName   warehouseName  total_quantity\n",
      "0    Motor Oil 5L  Main Warehouse            50.0\n",
      "1    Motor Oil 5L     North Depot            40.0\n",
      "2  Engine Cleaner  Main Warehouse            30.0\n",
      "3     Battery 12V  Main Warehouse            25.0\n"
     ]
    },
    {
     "name": "stderr",
     "output_type": "stream",
     "text": [
      "C:\\Users\\AI LEARNER\\AppData\\Local\\Temp\\ipykernel_4944\\66435070.py:9: UserWarning: pandas only supports SQLAlchemy connectable (engine/connection) or database string URI or sqlite3 DBAPI2 connection. Other DBAPI2 objects are not tested. Please consider using SQLAlchemy.\n",
      "  result = pd.read_sql_query(query, connection)\n"
     ]
    }
   ],
   "source": [
    "query = (\"\"\"\n",
    "Select i.itemName, w.warehouseName, SUM(r.quantity) as total_quantity\n",
    "FROM Item i\n",
    "JOIN Records r ON i.itemID = r.itemID\n",
    "JOIN Warehouse w ON r.warehouseID = w.warehouseID\n",
    "GROUP BY i.itemName, w.warehouseName\n",
    "\"\"\")\n",
    "result = pd.read_sql_query(query, connection)\n",
    "print(result)\n"
   ]
  },
  {
   "cell_type": "code",
   "execution_count": 10,
   "metadata": {},
   "outputs": [
    {
     "name": "stdout",
     "output_type": "stream",
     "text": [
      "      fullName        itemName   warehouseName\n",
      "0  Mekong Corp    Motor Oil 5L  Main Warehouse\n",
      "1  Mekong Corp    Motor Oil 5L     North Depot\n",
      "2    Vina Auto  Engine Cleaner  Main Warehouse\n",
      "3     Delta Co     Battery 12V  Main Warehouse\n"
     ]
    },
    {
     "name": "stderr",
     "output_type": "stream",
     "text": [
      "C:\\Users\\AI LEARNER\\AppData\\Local\\Temp\\ipykernel_4944\\3603220521.py:9: UserWarning: pandas only supports SQLAlchemy connectable (engine/connection) or database string URI or sqlite3 DBAPI2 connection. Other DBAPI2 objects are not tested. Please consider using SQLAlchemy.\n",
      "  result = pd.read_sql_query(query, connection)\n"
     ]
    }
   ],
   "source": [
    "query = (\"\"\"\n",
    "Select c.fullName, i.itemName, w.warehouseName\n",
    "         from CustomersWarehouse c\n",
    "         JOIN Records r ON c.customerID = r.customerID\n",
    "         JOIN Item i ON r.itemID = i.itemID\n",
    "         JOIN Warehouse w ON r.warehouseID = w.warehouseID\n",
    "         group by c.fullName, i.itemName, w.warehouseName\n",
    "\"\"\")\n",
    "result = pd.read_sql_query(query, connection)\n",
    "print(result)"
   ]
  },
  {
   "cell_type": "code",
   "execution_count": 15,
   "metadata": {},
   "outputs": [
    {
     "name": "stdout",
     "output_type": "stream",
     "text": [
      "     fullName        itemName   warehouseName\n",
      "0  Hoa Nguyen    Motor Oil 5L  Main Warehouse\n",
      "1  Khang Tran  Engine Cleaner  Main Warehouse\n",
      "2  Khang Tran     Battery 12V  Main Warehouse\n"
     ]
    },
    {
     "name": "stderr",
     "output_type": "stream",
     "text": [
      "C:\\Users\\AI LEARNER\\AppData\\Local\\Temp\\ipykernel_4944\\3219219583.py:11: UserWarning: pandas only supports SQLAlchemy connectable (engine/connection) or database string URI or sqlite3 DBAPI2 connection. Other DBAPI2 objects are not tested. Please consider using SQLAlchemy.\n",
      "  result = pd.read_sql_query(query, connection)\n"
     ]
    }
   ],
   "source": [
    "query = (\"\"\"\n",
    "Select s.fullName, i.itemName, w.warehouseName\n",
    "from Staffs s\n",
    "JOIN Records r ON s.staffID = r.staffID\n",
    "JOIN Item i ON r.itemID = i.itemID\n",
    "JOIN Warehouse w ON r.warehouseID = w.warehouseID\n",
    "Where 1 = 1\n",
    "and w.warehouseName = 'Main Warehouse'\n",
    "group by s.fullName, i.itemName, w.warehouseName\n",
    "\"\"\")\n",
    "result = pd.read_sql_query(query, connection)\n",
    "print(result)"
   ]
  },
  {
   "cell_type": "code",
   "execution_count": 17,
   "metadata": {},
   "outputs": [
    {
     "name": "stdout",
     "output_type": "stream",
     "text": [
      "         itemName   warehouseName  location  quantity\n",
      "0    Motor Oil 5L  Main Warehouse  Shelf A1        50\n",
      "1    Motor Oil 5L     North Depot  Shelf C3        40\n",
      "2  Engine Cleaner  Main Warehouse  Shelf B2        30\n",
      "3     Battery 12V  Main Warehouse  Shelf A1        25\n"
     ]
    },
    {
     "name": "stderr",
     "output_type": "stream",
     "text": [
      "C:\\Users\\AI LEARNER\\AppData\\Local\\Temp\\ipykernel_4944\\1346671829.py:8: UserWarning: pandas only supports SQLAlchemy connectable (engine/connection) or database string URI or sqlite3 DBAPI2 connection. Other DBAPI2 objects are not tested. Please consider using SQLAlchemy.\n",
      "  result = pd.read_sql_query(query, connection)\n"
     ]
    }
   ],
   "source": [
    "query = (\"\"\"\n",
    "Select i.itemName, w.warehouseName, r.location, r.quantity\n",
    "from Item i\n",
    "JOIN Records r ON i.itemID = r.itemID\n",
    "JOIN Warehouse w ON r.warehouseID = w.warehouseID\n",
    "\n",
    "\"\"\")\n",
    "result = pd.read_sql_query(query, connection)\n",
    "print(result)\n",
    "\n",
    "\n",
    "\n",
    "\n",
    "\n"
   ]
  },
  {
   "cell_type": "code",
   "execution_count": 22,
   "metadata": {},
   "outputs": [
    {
     "name": "stdout",
     "output_type": "stream",
     "text": [
      "    warehouseName  total_customer\n",
      "0  Main Warehouse               3\n",
      "1     North Depot               1\n"
     ]
    },
    {
     "name": "stderr",
     "output_type": "stream",
     "text": [
      "C:\\Users\\AI LEARNER\\AppData\\Local\\Temp\\ipykernel_4944\\2194747263.py:8: UserWarning: pandas only supports SQLAlchemy connectable (engine/connection) or database string URI or sqlite3 DBAPI2 connection. Other DBAPI2 objects are not tested. Please consider using SQLAlchemy.\n",
      "  result = pd.read_sql_query(query, connection)\n"
     ]
    }
   ],
   "source": [
    "query = (\"\"\"\n",
    "Select w.warehouseName, Count(c.customerID) as total_customer\n",
    "from Warehouse w\n",
    "JOIN Records r ON w.warehouseID = r.warehouseID\n",
    "JOIN CustomersWarehouse c ON r.customerID = c.customerID\n",
    "group by w.warehouseName\n",
    "\"\"\")\n",
    "result = pd.read_sql_query(query, connection)\n",
    "print(result)\n",
    "\n",
    "\n",
    "\n",
    "\n"
   ]
  },
  {
   "cell_type": "code",
   "execution_count": null,
   "metadata": {},
   "outputs": [],
   "source": []
  }
 ],
 "metadata": {
  "kernelspec": {
   "display_name": "Python 3",
   "language": "python",
   "name": "python3"
  },
  "language_info": {
   "codemirror_mode": {
    "name": "ipython",
    "version": 3
   },
   "file_extension": ".py",
   "mimetype": "text/x-python",
   "name": "python",
   "nbconvert_exporter": "python",
   "pygments_lexer": "ipython3",
   "version": "3.11.9"
  }
 },
 "nbformat": 4,
 "nbformat_minor": 2
}
