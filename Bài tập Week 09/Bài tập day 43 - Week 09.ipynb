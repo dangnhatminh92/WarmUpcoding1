{
 "cells": [
  {
   "cell_type": "code",
   "execution_count": 2,
   "metadata": {},
   "outputs": [],
   "source": [
    "import mysql.connector\n",
    "import pandas as pd"
   ]
  },
  {
   "cell_type": "code",
   "execution_count": 3,
   "metadata": {},
   "outputs": [],
   "source": [
    "# Connect to the database\n",
    "connection = mysql.connector.connect(\n",
    "    host=\"localhost\",\n",
    "    user=\"root\",\n",
    "    password=\"123#edc\",\n",
    "    database=\"aio_week_9\"\n",
    ")\n",
    "\n",
    "cursor = connection.cursor()\n"
   ]
  },
  {
   "cell_type": "code",
   "execution_count": 4,
   "metadata": {},
   "outputs": [
    {
     "name": "stdout",
     "output_type": "stream",
     "text": [
      "Tables created successfully\n"
     ]
    }
   ],
   "source": [
    "#Create the table\n",
    "cursor.execute(\"\"\"\n",
    "CREATE TABLE IF NOT EXISTS Customers(\n",
    "    CustomerID INT PRIMARY KEY, \n",
    "    FullName VARCHAR(255)\n",
    ");\n",
    "\"\"\")\n",
    "\n",
    "cursor.execute(\"\"\"\n",
    "CREATE TABLE IF NOT EXISTS Transactions(\n",
    "    TransactionID INT PRIMARY KEY, \n",
    "    CustomerID INT,\n",
    "    TransactionDate datetime  DEFAULT current_timestamp,\n",
    "    FOREIGN KEY (CustomerID) REFERENCES Customers(CustomerID)\n",
    ");\n",
    "\"\"\")\n",
    "\n",
    "cursor.execute(\"\"\"\n",
    "CREATE TABLE IF NOT EXISTS TransactionDetails (\n",
    "    TransactionDetailID INT PRIMARY KEY, \n",
    "    TransactionID INT,\n",
    "    StockCode VARCHAR(10),\n",
    "    FOREIGN KEY (TransactionID) REFERENCES Transactions(TransactionID)\n",
    ");\n",
    "\"\"\")\n",
    "\n",
    "\n",
    "print(\"Tables created successfully\")\n",
    "connection.commit()\n",
    "cursor.close()\n",
    "connection.close()\n",
    "\n",
    "\n",
    "\n"
   ]
  },
  {
   "cell_type": "code",
   "execution_count": 5,
   "metadata": {},
   "outputs": [
    {
     "name": "stdout",
     "output_type": "stream",
     "text": [
      "Data inserted successfully\n"
     ]
    },
    {
     "data": {
      "text/plain": [
       "True"
      ]
     },
     "execution_count": 5,
     "metadata": {},
     "output_type": "execute_result"
    }
   ],
   "source": [
    "# Connect to the database\n",
    "connection = mysql.connector.connect(\n",
    "    host=\"localhost\",\n",
    "    user=\"root\",\n",
    "    password=\"123#edc\",\n",
    "    database=\"aio_week_9\"\n",
    ")\n",
    "\n",
    "cursor = connection.cursor()\n",
    "\n",
    "#Insert data into the table\n",
    "cursor.execute(\"\"\"\n",
    "INSERT INTO Customers (CustomerID, FullName) \n",
    "VALUES \n",
    "               (1, \"Nguyen Van A\"),\n",
    "               (2, \"Le Thi B\"),\n",
    "               (3, \"Tran Van C\");\n",
    "\"\"\")\n",
    "\n",
    "cursor.execute(\"\"\"\n",
    "INSERT INTO Transactions (TransactionID, CustomerID, TransactionDate)\n",
    "VALUES \n",
    "               (1, 1, \"2024-12-01\"),\n",
    "               (2, 2, \"2024-12-02\"),\n",
    "               (3, 3, \"2024-12-03\");\n",
    "\"\"\")\n",
    "\n",
    "cursor.execute(\"\"\"\n",
    "INSERT INTO TransactionDetails (TransactionDetailID, TransactionID, StockCode)\n",
    "VALUES \n",
    "               (1, 1, \"VNM\"),\n",
    "               (2, 1, \"FPT\"),\n",
    "               (3, 1, \"MWG\"),\n",
    "               (4, 2, \"SSI\"),\n",
    "               (5, 3, \"VCB\"),\n",
    "               (6, 3, \"TCB\");\n",
    "\"\"\")\n",
    "\n",
    "print(f\"Data inserted successfully\")\n",
    "connection.commit()\n",
    "cursor.close()\n"
   ]
  },
  {
   "cell_type": "code",
   "execution_count": 6,
   "metadata": {},
   "outputs": [
    {
     "name": "stdout",
     "output_type": "stream",
     "text": [
      "  stockcode      fullname\n",
      "0       VNM  Nguyen Van A\n",
      "1       FPT  Nguyen Van A\n",
      "2       MWG  Nguyen Van A\n",
      "3       SSI      Le Thi B\n",
      "4       VCB    Tran Van C\n",
      "5       TCB    Tran Van C\n"
     ]
    },
    {
     "name": "stderr",
     "output_type": "stream",
     "text": [
      "C:\\Users\\AI LEARNER\\AppData\\Local\\Temp\\ipykernel_13992\\3070649113.py:8: UserWarning: pandas only supports SQLAlchemy connectable (engine/connection) or database string URI or sqlite3 DBAPI2 connection. Other DBAPI2 objects are not tested. Please consider using SQLAlchemy.\n",
      "  result = pd.read_sql_query(query, connection)\n"
     ]
    }
   ],
   "source": [
    "query = \"\"\"\n",
    "Select td.stockcode, c.fullname\n",
    "from transactiondetails td\n",
    "join transactions t on td.transactionid = t.transactionid\n",
    "join customers c on t.customerid = c.customerid\n",
    "\"\"\"\n",
    "\n",
    "result = pd.read_sql_query(query, connection)\n",
    "\n",
    "print(result)\n"
   ]
  }
 ],
 "metadata": {
  "kernelspec": {
   "display_name": "Python 3",
   "language": "python",
   "name": "python3"
  },
  "language_info": {
   "codemirror_mode": {
    "name": "ipython",
    "version": 3
   },
   "file_extension": ".py",
   "mimetype": "text/x-python",
   "name": "python",
   "nbconvert_exporter": "python",
   "pygments_lexer": "ipython3",
   "version": "3.11.9"
  }
 },
 "nbformat": 4,
 "nbformat_minor": 2
}
