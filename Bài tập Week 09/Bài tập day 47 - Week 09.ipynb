{
 "cells": [
  {
   "cell_type": "code",
   "execution_count": 15,
   "metadata": {},
   "outputs": [],
   "source": [
    "import mysql.connector  \n",
    "import pandas as pd\n",
    "import numpy as np"
   ]
  },
  {
   "cell_type": "code",
   "execution_count": 4,
   "metadata": {},
   "outputs": [
    {
     "name": "stdout",
     "output_type": "stream",
     "text": [
      "Tables created successfully\n"
     ]
    }
   ],
   "source": [
    "#Connect to database\n",
    "connection = mysql.connector.connect(\n",
    "    host=\"localhost\",\n",
    "    user=\"root\",\n",
    "    password=\"123#edc\",\n",
    "    database=\"week_9\"\n",
    ")\n",
    "\n",
    "cursor = connection.cursor()\n",
    "\n",
    "#Create tables\n",
    "cursor.execute(\"\"\"\n",
    "CREATE TABLE IF NOT EXISTS  Category (\n",
    "    categoryID INT AUTO_INCREMENT PRIMARY KEY,\n",
    "    Name VARCHAR(250) NOT NULL\n",
    ");\n",
    "\"\"\")\n",
    "\n",
    "cursor.execute(\"\"\"\n",
    "CREATE TABLE IF NOT EXISTS Product (\n",
    "    productID INT PRIMARY KEY,\n",
    "    name VARCHAR(250) NOT NULL,\n",
    "    categoryID INT,\n",
    "    price DECIMAL(10, 2) NOT NULL,\n",
    "    FOREIGN KEY (categoryID) REFERENCES Category(categoryID)\n",
    ");\n",
    "\"\"\")\n",
    "\n",
    "cursor.execute(\"\"\"\n",
    "CREATE TABLE IF NOT EXISTS Variant (\n",
    "    variantID INT AUTO_INCREMENT PRIMARY KEY,\n",
    "    productID INT,\n",
    "    color VARCHAR(30),\n",
    "    size VARCHAR(5),\n",
    "    stock INT,\n",
    "    FOREIGN KEY (productID) REFERENCES Product(productID)\n",
    ");\n",
    "\"\"\")\n",
    "\n",
    "cursor.execute(\"\"\"\n",
    "Create table if not exists Customer (   \n",
    "    customerID INT AUTO_INCREMENT PRIMARY KEY,\n",
    "    fullName VARCHAR(250) NOT NULL,\n",
    "    phone VARCHAR(15) NOT NULL,\n",
    "    address VARCHAR(250) NOT NULL,\n",
    "    createdDate DATETIME DEFAULT CURRENT_TIMESTAMP\n",
    ");\n",
    "\"\"\")\n",
    "\n",
    "cursor.execute(\"\"\"\n",
    "CREATE TABLE IF NOT EXISTS Orders (\n",
    "    orderID INT AUTO_INCREMENT PRIMARY KEY,\n",
    "    customerID INT,\n",
    "    orderDate DATETIME DEFAULT CURRENT_TIMESTAMP,\n",
    "    status VARCHAR(20),\n",
    "    FOREIGN KEY (customerID) REFERENCES Customer(customerID)\n",
    ");\n",
    "\"\"\")\n",
    "\n",
    "cursor.execute(\"\"\"\n",
    "CREATE TABLE IF NOT EXISTS Order_Detail (\n",
    "    orderID INT,\n",
    "    variantID INT,\n",
    "    quantity INT,\n",
    "    price DECIMAL(10, 2),\n",
    "    FOREIGN KEY (orderID) REFERENCES Orders(orderID),\n",
    "    FOREIGN KEY (variantID) REFERENCES Variant(variantID)\n",
    ");\n",
    "\"\"\")\n",
    "\n",
    "#Commit changes\n",
    "connection.commit()\n",
    "\n",
    "#Print result\n",
    "print(\"Tables created successfully\")\n",
    "\n",
    "#Close connection\n",
    "cursor.close()\n",
    "connection.close()\n"
   ]
  },
  {
   "cell_type": "code",
   "execution_count": 6,
   "metadata": {},
   "outputs": [],
   "source": [
    "#Connect to database\n",
    "connection = mysql.connector.connect(\n",
    "    host=\"localhost\",\n",
    "    user=\"root\",\n",
    "    password=\"123#edc\",\n",
    "    database=\"week_9\"\n",
    ")\n",
    "\n",
    "cursor = connection.cursor()"
   ]
  },
  {
   "cell_type": "code",
   "execution_count": 7,
   "metadata": {},
   "outputs": [
    {
     "name": "stdout",
     "output_type": "stream",
     "text": [
      "Category inserted successfully\n"
     ]
    }
   ],
   "source": [
    "#Insert data into category table\n",
    "data_category = [(\"Áo\",),(\"Quần\",),(\"Váy\",),(\"Phụ kiện\",)]\n",
    "cursor.executemany(\"\"\"\n",
    "INSERT INTO Category (Name) \n",
    "VALUES (%s)\n",
    "\"\"\", data_category)\n",
    "\n",
    "connection.commit()\n",
    "print(\"Category inserted successfully\")"
   ]
  },
  {
   "cell_type": "code",
   "execution_count": 8,
   "metadata": {},
   "outputs": [
    {
     "name": "stdout",
     "output_type": "stream",
     "text": [
      "Product inserted successfully\n"
     ]
    }
   ],
   "source": [
    "#Insert data into product table\n",
    "data_product = [(101, \"Áo sơ mi nam\",1, 300000),\n",
    "                (102, \"Quần jean\",2, 500000),\n",
    "                (103, \"Váy xòe\",3, 450000)]\n",
    "cursor.executemany(\"\"\"\n",
    "INSERT INTO Product (productID,name, categoryID, price)\n",
    "VALUES (%s, %s, %s, %s)\n",
    "\"\"\", data_product)\n",
    "\n",
    "connection.commit()\n",
    "print(\"Product inserted successfully\")"
   ]
  },
  {
   "cell_type": "code",
   "execution_count": 9,
   "metadata": {},
   "outputs": [
    {
     "name": "stdout",
     "output_type": "stream",
     "text": [
      "Variant inserted successfully\n"
     ]
    }
   ],
   "source": [
    "#Insert data into variant table\n",
    "data_variant = [(101, \"Trắng\", \"M\", 20),\n",
    "                (101, \"Trắng\", \"L\", 15),\n",
    "                (102, \"Xanh\", \"M\", 10),\n",
    "                (103, \"Đỏ\", \"S\", 5),]\n",
    "cursor.executemany(\"\"\"\n",
    "INSERT INTO Variant (productID, color, size, stock)\n",
    "VALUES (%s, %s, %s, %s)\n",
    "\"\"\", data_variant)\n",
    "\n",
    "connection.commit()\n",
    "print(\"Variant inserted successfully\")"
   ]
  },
  {
   "cell_type": "code",
   "execution_count": 11,
   "metadata": {},
   "outputs": [
    {
     "name": "stdout",
     "output_type": "stream",
     "text": [
      "Customer inserted successfully\n"
     ]
    }
   ],
   "source": [
    "#Create customer table\n",
    "data_customer = [(\"Trần An\", \"0909123456\", \"Hà Nội\", \"2024-01-10\"),\n",
    "                (\"Lê Bình\", \"0909223456\", \"TP.HCM\", \"2024-02-05\")]\n",
    "cursor.executemany(\"\"\"\n",
    "INSERT INTO Customer (fullName, phone, address, createdDate)\n",
    "VALUES (%s, %s, %s, %s)\n",
    "\"\"\", data_customer)\n",
    "\n",
    "connection.commit()\n",
    "print(\"Customer inserted successfully\")\n"
   ]
  },
  {
   "cell_type": "code",
   "execution_count": 12,
   "metadata": {},
   "outputs": [
    {
     "name": "stdout",
     "output_type": "stream",
     "text": [
      "Order inserted successfully\n"
     ]
    }
   ],
   "source": [
    "#Insert data into order table\n",
    "data_order = [(1, \"2024-03-01\", \"Đã giao hàng\"),\n",
    "              (2, \"2024-03-02\", \"Đã đặt hàng\")]\n",
    "cursor.executemany(\"\"\"\n",
    "INSERT INTO Orders (customerID, orderDate, status)\n",
    "VALUES (%s, %s, %s)\n",
    "\"\"\", data_order)\n",
    "\n",
    "connection.commit()\n",
    "print(\"Order inserted successfully\")\n"
   ]
  },
  {
   "cell_type": "code",
   "execution_count": 13,
   "metadata": {},
   "outputs": [
    {
     "name": "stdout",
     "output_type": "stream",
     "text": [
      "Order detail inserted successfully\n"
     ]
    }
   ],
   "source": [
    "#Insert data into order detail table\n",
    "data_order_detail = [(1, 1, 2, 300000),\n",
    "                     (1, 3, 1, 500000),\n",
    "                     (2, 4, 1, 450000)]\n",
    "cursor.executemany(\"\"\"\n",
    "INSERT INTO Order_Detail (orderID, variantID, quantity, price)\n",
    "VALUES (%s, %s, %s, %s)\n",
    "\"\"\", data_order_detail)\n",
    "\n",
    "connection.commit()\n",
    "print(\"Order detail inserted successfully\")"
   ]
  },
  {
   "cell_type": "code",
   "execution_count": 14,
   "metadata": {},
   "outputs": [],
   "source": [
    "#Close connection\n",
    "cursor.close()\n",
    "connection.close()\n"
   ]
  },
  {
   "cell_type": "code",
   "execution_count": 17,
   "metadata": {},
   "outputs": [],
   "source": [
    "#Connect to database\n",
    "connection = mysql.connector.connect(\n",
    "    host=\"localhost\",\n",
    "    user=\"root\",\n",
    "    password=\"123#edc\",\n",
    "    database=\"week_9\"\n",
    ")\n",
    "\n",
    "cursor = connection.cursor()\n"
   ]
  },
  {
   "cell_type": "code",
   "execution_count": 18,
   "metadata": {},
   "outputs": [
    {
     "name": "stdout",
     "output_type": "stream",
     "text": [
      "   orderID fullName  totalPrice\n",
      "0        1  Trần An   1100000.0\n",
      "1        2  Lê Bình    450000.0\n"
     ]
    },
    {
     "name": "stderr",
     "output_type": "stream",
     "text": [
      "C:\\Users\\AI LEARNER\\AppData\\Local\\Temp\\ipykernel_2560\\3896531262.py:9: UserWarning: pandas only supports SQLAlchemy connectable (engine/connection) or database string URI or sqlite3 DBAPI2 connection. Other DBAPI2 objects are not tested. Please consider using SQLAlchemy.\n",
      "  result = pd.read_sql_query(query, connection)\n"
     ]
    }
   ],
   "source": [
    "#  3. Liệt kê tất cả các đơn hàng, kèm theo tên khách hàng và tổng tiền của mỗi đơn hàng.\n",
    "query = \"\"\"\n",
    "SELECT o.orderID, c.fullName, SUM(od.quantity * od.price) AS totalPrice\n",
    "FROM Orders o\n",
    "JOIN Customer c ON o.customerID = c.customerID\n",
    "JOIN Order_Detail od ON o.orderID = od.orderID\n",
    "GROUP BY o.orderID, c.fullName\n",
    "\"\"\"\n",
    "result = pd.read_sql_query(query, connection)\n",
    "print(result)\n"
   ]
  },
  {
   "cell_type": "code",
   "execution_count": 20,
   "metadata": {},
   "outputs": [
    {
     "name": "stdout",
     "output_type": "stream",
     "text": [
      "           Name size  color  stock\n",
      "0  Áo sơ mi nam    M  Trắng     20\n",
      "1  Áo sơ mi nam    L  Trắng     15\n"
     ]
    },
    {
     "name": "stderr",
     "output_type": "stream",
     "text": [
      "C:\\Users\\AI LEARNER\\AppData\\Local\\Temp\\ipykernel_2560\\301675568.py:7: UserWarning: pandas only supports SQLAlchemy connectable (engine/connection) or database string URI or sqlite3 DBAPI2 connection. Other DBAPI2 objects are not tested. Please consider using SQLAlchemy.\n",
      "  result = pd.read_sql_query(query, connection)\n"
     ]
    }
   ],
   "source": [
    "query = \"\"\"\n",
    "Select p.Name, v.size, v.color, v.stock\n",
    "From Product p\n",
    "Join variant v on v.productID = p.productID\n",
    "Where v.stock > 10\n",
    "\"\"\"\n",
    "result = pd.read_sql_query(query, connection)\n",
    "print(result)\n"
   ]
  },
  {
   "cell_type": "code",
   "execution_count": 21,
   "metadata": {},
   "outputs": [
    {
     "name": "stdout",
     "output_type": "stream",
     "text": [
      "   orderDate        status  totalAvenue\n",
      "0 2024-03-01  Đã giao hàng    1100000.0\n",
      "1 2024-03-02   Đã đặt hàng     450000.0\n"
     ]
    },
    {
     "name": "stderr",
     "output_type": "stream",
     "text": [
      "C:\\Users\\AI LEARNER\\AppData\\Local\\Temp\\ipykernel_2560\\794097712.py:8: UserWarning: pandas only supports SQLAlchemy connectable (engine/connection) or database string URI or sqlite3 DBAPI2 connection. Other DBAPI2 objects are not tested. Please consider using SQLAlchemy.\n",
      "  result = pd.read_sql_query(query, connection)\n"
     ]
    }
   ],
   "source": [
    "query = \"\"\"\n",
    "Select o.orderDate, o.status, Sum(od.quantity * od.price) AS totalAvenue\n",
    "From Orders o\n",
    "Join Order_Detail od on o.orderID = od.orderID\n",
    "Group by o.orderDate, o.status\n",
    "Order by totalAvenue desc\n",
    "\"\"\"\n",
    "result = pd.read_sql_query(query, connection)\n",
    "print(result)\n",
    "\n"
   ]
  },
  {
   "cell_type": "code",
   "execution_count": 29,
   "metadata": {},
   "outputs": [
    {
     "name": "stdout",
     "output_type": "stream",
     "text": [
      "  fullName        status  orderDate\n",
      "0  Trần An  Đã giao hàng 2024-03-01\n",
      "1  Lê Bình   Đã đặt hàng 2024-03-02\n"
     ]
    },
    {
     "name": "stderr",
     "output_type": "stream",
     "text": [
      "C:\\Users\\AI LEARNER\\AppData\\Local\\Temp\\ipykernel_2560\\897566760.py:7: UserWarning: pandas only supports SQLAlchemy connectable (engine/connection) or database string URI or sqlite3 DBAPI2 connection. Other DBAPI2 objects are not tested. Please consider using SQLAlchemy.\n",
      "  result = pd.read_sql_query(query, connection)\n"
     ]
    }
   ],
   "source": [
    "query = \"\"\"\n",
    "SELECT c.fullName, o.status, o.orderDate\n",
    "FROM Customer c\n",
    "JOIN Orders o ON c.customerID = o.customerID\n",
    "WHERE o.status IN (\"Đã đặt hàng\", \"Đã giao hàng\")\n",
    "\"\"\"\n",
    "result = pd.read_sql_query(query, connection)\n",
    "print(result)\n"
   ]
  },
  {
   "cell_type": "code",
   "execution_count": 30,
   "metadata": {},
   "outputs": [
    {
     "name": "stdout",
     "output_type": "stream",
     "text": [
      "   categoryID  totalAvenue\n",
      "0           1     600000.0\n",
      "1           2     500000.0\n",
      "2           3     450000.0\n"
     ]
    },
    {
     "name": "stderr",
     "output_type": "stream",
     "text": [
      "C:\\Users\\AI LEARNER\\AppData\\Local\\Temp\\ipykernel_2560\\2591013791.py:8: UserWarning: pandas only supports SQLAlchemy connectable (engine/connection) or database string URI or sqlite3 DBAPI2 connection. Other DBAPI2 objects are not tested. Please consider using SQLAlchemy.\n",
      "  result = pd.read_sql_query(query, connection)\n"
     ]
    }
   ],
   "source": [
    "query = \"\"\"\n",
    "Select p.categoryID, Sum(od.quantity * od.price) AS totalAvenue\n",
    "From Product p\n",
    "Join variant v on v.productID = p.productID\n",
    "join Order_Detail od on od.variantID = v.variantID\n",
    "Group by p.categoryID\n",
    "\"\"\"\n",
    "result = pd.read_sql_query(query, connection)\n",
    "print(result)\n",
    "\n"
   ]
  },
  {
   "cell_type": "code",
   "execution_count": 32,
   "metadata": {},
   "outputs": [
    {
     "name": "stdout",
     "output_type": "stream",
     "text": [
      "           Name  quantity\n",
      "0  Áo sơ mi nam         2\n"
     ]
    },
    {
     "name": "stderr",
     "output_type": "stream",
     "text": [
      "C:\\Users\\AI LEARNER\\AppData\\Local\\Temp\\ipykernel_2560\\3240465448.py:8: UserWarning: pandas only supports SQLAlchemy connectable (engine/connection) or database string URI or sqlite3 DBAPI2 connection. Other DBAPI2 objects are not tested. Please consider using SQLAlchemy.\n",
      "  result = pd.read_sql_query(query, connection)\n"
     ]
    }
   ],
   "source": [
    "query = \"\"\"\n",
    "Select p.Name, od.quantity\n",
    "From Product p\n",
    "Join variant v on v.productID = p.productID\n",
    "Join Order_Detail od on od.variantID = v.variantID\n",
    "Where od.quantity > 1\n",
    "\"\"\"\n",
    "result = pd.read_sql_query(query, connection)\n",
    "print(result)\n",
    "\n"
   ]
  },
  {
   "cell_type": "code",
   "execution_count": 33,
   "metadata": {},
   "outputs": [
    {
     "name": "stdout",
     "output_type": "stream",
     "text": [
      "   categoryID  Name  totalAvenue\n",
      "0           1    Áo     600000.0\n",
      "1           2  Quần     500000.0\n",
      "2           3   Váy     450000.0\n"
     ]
    },
    {
     "name": "stderr",
     "output_type": "stream",
     "text": [
      "C:\\Users\\AI LEARNER\\AppData\\Local\\Temp\\ipykernel_2560\\1039240507.py:9: UserWarning: pandas only supports SQLAlchemy connectable (engine/connection) or database string URI or sqlite3 DBAPI2 connection. Other DBAPI2 objects are not tested. Please consider using SQLAlchemy.\n",
      "  result = pd.read_sql_query(query, connection)\n"
     ]
    }
   ],
   "source": [
    "query = \"\"\"\n",
    "Select ca.categoryID, ca.Name, Sum(od.quantity * od.price) AS totalAvenue\n",
    "from Category ca\n",
    "Join Product p on p.categoryID = ca.categoryID\n",
    "Join variant v on v.productID = p.productID\n",
    "Join Order_Detail od on od.variantID = v.variantID\n",
    "Group by ca.categoryID, ca.Name\n",
    "\"\"\"\n",
    "result = pd.read_sql_query(query, connection)\n",
    "print(result)\n"
   ]
  },
  {
   "cell_type": "code",
   "execution_count": 37,
   "metadata": {},
   "outputs": [
    {
     "name": "stdout",
     "output_type": "stream",
     "text": [
      "  categoryName   productName  color size  totalQuantity fullName       phone  \\\n",
      "0           Áo  Áo sơ mi nam  Trắng    M            2.0  Trần An  0909123456   \n",
      "1         Quần     Quần jean   Xanh    M            1.0  Trần An  0909123456   \n",
      "2          Váy       Váy xòe     Đỏ    S            1.0  Lê Bình  0909223456   \n",
      "\n",
      "  address  orderDate  totalAvenue  \n",
      "0  Hà Nội 2024-03-01     600000.0  \n",
      "1  Hà Nội 2024-03-01     500000.0  \n",
      "2  TP.HCM 2024-03-02     450000.0  \n"
     ]
    },
    {
     "name": "stderr",
     "output_type": "stream",
     "text": [
      "C:\\Users\\AI LEARNER\\AppData\\Local\\Temp\\ipykernel_2560\\569296799.py:30: UserWarning: pandas only supports SQLAlchemy connectable (engine/connection) or database string URI or sqlite3 DBAPI2 connection. Other DBAPI2 objects are not tested. Please consider using SQLAlchemy.\n",
      "  result = pd.read_sql_query(query, connection)\n"
     ]
    }
   ],
   "source": [
    "query = \"\"\"\n",
    "SELECT \n",
    "    ca.Name AS categoryName, \n",
    "    p.Name AS productName, \n",
    "    v.color, \n",
    "    v.size, \n",
    "    SUM(od.quantity) AS totalQuantity,\n",
    "    c.fullName, \n",
    "    c.phone, \n",
    "    c.address, \n",
    "    o.orderDate, \n",
    "    SUM(od.quantity * od.price) AS totalAvenue\n",
    "FROM Category ca\n",
    "JOIN Product p ON p.categoryID = ca.categoryID\n",
    "JOIN Variant v ON v.productID = p.productID\n",
    "JOIN Order_Detail od ON od.variantID = v.variantID\n",
    "JOIN Orders o ON o.orderID = od.orderID\n",
    "JOIN Customer c ON c.customerID = o.customerID\n",
    "GROUP BY \n",
    "    ca.Name, \n",
    "    p.Name, \n",
    "    v.color, \n",
    "    v.size, \n",
    "    c.fullName, \n",
    "    c.phone, \n",
    "    c.address, \n",
    "    o.orderDate\n",
    "\"\"\"\n",
    "result = pd.read_sql_query(query, connection)\n",
    "print(result)\n",
    "\n",
    "\n",
    "\n"
   ]
  },
  {
   "cell_type": "code",
   "execution_count": 38,
   "metadata": {},
   "outputs": [
    {
     "name": "stdout",
     "output_type": "stream",
     "text": [
      "Empty DataFrame\n",
      "Columns: [fullName, orderID]\n",
      "Index: []\n"
     ]
    },
    {
     "name": "stderr",
     "output_type": "stream",
     "text": [
      "C:\\Users\\AI LEARNER\\AppData\\Local\\Temp\\ipykernel_2560\\2289167059.py:7: UserWarning: pandas only supports SQLAlchemy connectable (engine/connection) or database string URI or sqlite3 DBAPI2 connection. Other DBAPI2 objects are not tested. Please consider using SQLAlchemy.\n",
      "  result = pd.read_sql_query(query, connection)\n"
     ]
    }
   ],
   "source": [
    "query = \"\"\"\n",
    "Select c.fullName, o.orderID\n",
    "From Customer c\n",
    "LEFT JOIN Orders o on c.customerID = o.customerID\n",
    "Where o.orderID is null\n",
    "\"\"\"\n",
    "result = pd.read_sql_query(query, connection)\n",
    "print(result)\n",
    "\n",
    "\n",
    "\n"
   ]
  },
  {
   "cell_type": "code",
   "execution_count": 47,
   "metadata": {},
   "outputs": [
    {
     "name": "stdout",
     "output_type": "stream",
     "text": [
      "  fullName  month  year\n",
      "0  Trần An      1  2024\n",
      "1  Lê Bình      2  2024\n"
     ]
    },
    {
     "name": "stderr",
     "output_type": "stream",
     "text": [
      "C:\\Users\\AI LEARNER\\AppData\\Local\\Temp\\ipykernel_2560\\2239870135.py:6: UserWarning: pandas only supports SQLAlchemy connectable (engine/connection) or database string URI or sqlite3 DBAPI2 connection. Other DBAPI2 objects are not tested. Please consider using SQLAlchemy.\n",
      "  result = pd.read_sql_query(query, connection)\n"
     ]
    }
   ],
   "source": [
    "query = \"\"\"\n",
    "Select c.fullName, MONTH(c.createdDate) AS month, YEAR(c.createdDate) AS year\n",
    "from Customer c\n",
    "order by month asc\n",
    "\"\"\"\n",
    "result = pd.read_sql_query(query, connection)\n",
    "print(result)"
   ]
  },
  {
   "cell_type": "code",
   "execution_count": 51,
   "metadata": {},
   "outputs": [
    {
     "name": "stdout",
     "output_type": "stream",
     "text": [
      "   orderID  orderDate fullName        status\n",
      "0        2 2024-03-02  Lê Bình   Đã đặt hàng\n",
      "1        1 2024-03-01  Trần An  Đã giao hàng\n"
     ]
    },
    {
     "name": "stderr",
     "output_type": "stream",
     "text": [
      "C:\\Users\\AI LEARNER\\AppData\\Local\\Temp\\ipykernel_2560\\4185796860.py:7: UserWarning: pandas only supports SQLAlchemy connectable (engine/connection) or database string URI or sqlite3 DBAPI2 connection. Other DBAPI2 objects are not tested. Please consider using SQLAlchemy.\n",
      "  result = pd.read_sql_query(query, connection)\n"
     ]
    }
   ],
   "source": [
    "query = \"\"\"\n",
    "Select o.orderID, o.orderDate,c.fullName, o.status\n",
    "From Orders o\n",
    "Join Customer c on c.customerID = o.customerID\n",
    "order by field(o.status, \"Đã đặt hàng\", \"Đã giao hàng\", \"Đã hủy hàng\")\n",
    "\"\"\"\n",
    "result = pd.read_sql_query(query, connection)\n",
    "print(result)\n"
   ]
  },
  {
   "cell_type": "code",
   "execution_count": 53,
   "metadata": {},
   "outputs": [
    {
     "name": "stdout",
     "output_type": "stream",
     "text": [
      "   Name  Average_Stock\n",
      "0    Áo           17.5\n",
      "1  Quần           10.0\n",
      "2   Váy            5.0\n"
     ]
    },
    {
     "name": "stderr",
     "output_type": "stream",
     "text": [
      "C:\\Users\\AI LEARNER\\AppData\\Local\\Temp\\ipykernel_2560\\2492386805.py:8: UserWarning: pandas only supports SQLAlchemy connectable (engine/connection) or database string URI or sqlite3 DBAPI2 connection. Other DBAPI2 objects are not tested. Please consider using SQLAlchemy.\n",
      "  result = pd.read_sql_query(query, connection)\n"
     ]
    }
   ],
   "source": [
    "query = \"\"\"\n",
    "Select ca.Name,  AVG(v.stock) AS Average_Stock\n",
    "From Category ca\n",
    "Join Product p on p.categoryID = ca.categoryID\n",
    "Join variant v on v.productID = p.productID\n",
    "Group by ca.Name\n",
    "\"\"\"\n",
    "result = pd.read_sql_query(query, connection)\n",
    "print(result)\n",
    "\n",
    "\n",
    "\n",
    "\n",
    "\n"
   ]
  }
 ],
 "metadata": {
  "kernelspec": {
   "display_name": "Python 3",
   "language": "python",
   "name": "python3"
  },
  "language_info": {
   "codemirror_mode": {
    "name": "ipython",
    "version": 3
   },
   "file_extension": ".py",
   "mimetype": "text/x-python",
   "name": "python",
   "nbconvert_exporter": "python",
   "pygments_lexer": "ipython3",
   "version": "3.11.9"
  }
 },
 "nbformat": 4,
 "nbformat_minor": 2
}
