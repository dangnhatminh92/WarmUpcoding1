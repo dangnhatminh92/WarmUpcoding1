{
 "cells": [
  {
   "cell_type": "code",
   "execution_count": 1,
   "metadata": {},
   "outputs": [],
   "source": [
    "import mysql.connector  \n",
    "import pandas as pd"
   ]
  },
  {
   "cell_type": "code",
   "execution_count": null,
   "metadata": {},
   "outputs": [
    {
     "name": "stdout",
     "output_type": "stream",
     "text": [
      "Tables created successfully\n"
     ]
    }
   ],
   "source": [
    "#Connect to database\n",
    "connection = mysql.connector.connect(\n",
    "    host=\"localhost\",\n",
    "    user=\"root\",\n",
    "    password=\"123#edc\",\n",
    "    database=\"aio_week_9\"\n",
    ")\n",
    "\n",
    "cursor = connection.cursor()\n",
    "\n",
    "# Create tables\n",
    "cursor.execute(\"\"\"\n",
    "               CREATE TABLE IF NOT EXISTS Customers_Company (\n",
    "               customer_id INT AUTO_INCREMENT PRIMARY KEY, \n",
    "               fullName VARCHAR(250), \n",
    "               city VARCHAR(20)\n",
    "               );\n",
    "               \"\"\")\n",
    "\n",
    "cursor.execute(\"\"\"\n",
    "               CREATE TABLE IF NOT EXISTS Accounts (\n",
    "               accountID VARCHAR(5) PRIMARY KEY, \n",
    "               customer_id INT,\n",
    "               banlance DECIMAL(15,2),\n",
    "               FOREIGN KEY (customer_id) REFERENCES Customers_Company(customer_id)\n",
    "               );\n",
    "               \"\"\")\n",
    "\n",
    "\n",
    "#Print result\n",
    "print(\"Tables created successfully\")\n",
    "\n",
    "# Close connection\n",
    "connection.commit()\n",
    "cursor.close()\n",
    "connection.close()\n"
   ]
  },
  {
   "cell_type": "code",
   "execution_count": null,
   "metadata": {},
   "outputs": [],
   "source": []
  },
  {
   "cell_type": "code",
   "execution_count": null,
   "metadata": {},
   "outputs": [
    {
     "name": "stdout",
     "output_type": "stream",
     "text": [
      "Data inserted successfully\n"
     ]
    }
   ],
   "source": [
    "#Connect to database\n",
    "connection = mysql.connector.connect(\n",
    "    host=\"localhost\",\n",
    "    user=\"root\",\n",
    "    password=\"123#edc\",\n",
    "    database=\"aio_week_9\"\n",
    ")\n",
    "\n",
    "cursor = connection.cursor()\n",
    "\n",
    "#Insert data into table\n",
    "\n",
    "data_customer = [('Alice', 'Hanoi'), \n",
    "                ('Bob', 'HCM'), \n",
    "                ('Charlie', 'Danang'), \n",
    "                ('Diana', 'Hanoi')]\n",
    "cursor.executemany(\"\"\"\n",
    "               INSERT INTO Customers_Company (fullName, city)\n",
    "               VALUES (%s, %s)\n",
    "               \"\"\", data_customer)\n",
    "\n",
    "#Commit data\n",
    "connection.commit()\n",
    "\n",
    "#Print result\n",
    "print(\"Data inserted successfully\")\n",
    "\n",
    "#Close connection\n",
    "cursor.close()\n",
    "connection.close()\n",
    "\n"
   ]
  },
  {
   "cell_type": "code",
   "execution_count": 17,
   "metadata": {},
   "outputs": [
    {
     "name": "stdout",
     "output_type": "stream",
     "text": [
      "Data inserted successfully\n"
     ]
    }
   ],
   "source": [
    "#Connect to database\n",
    "connection = mysql.connector.connect(\n",
    "    host=\"localhost\",\n",
    "    user=\"root\",\n",
    "    password=\"123#edc\",\n",
    "    database=\"aio_week_9\"\n",
    ")\n",
    "\n",
    "cursor = connection.cursor()\n",
    "\n",
    "data_account = [('A1', 30, 500),   \n",
    "                ('A2', 31, 1000),\n",
    "                ('A3', 31, 1500),\n",
    "                ('A4', 32, 300)]\n",
    "cursor.executemany(\"\"\"\n",
    "               INSERT INTO Accounts (accountID, customer_id, banlance)\n",
    "               VALUES (%s, %s, %s)\n",
    "               \"\"\", data_account)\n",
    "\n",
    "#Commit data\n",
    "connection.commit()\n",
    "\n",
    "#Print result\n",
    "print(\"Data inserted successfully\")\n",
    "\n",
    "#Close connection\n",
    "cursor.close()\n",
    "connection.close()\n"
   ]
  },
  {
   "cell_type": "code",
   "execution_count": null,
   "metadata": {},
   "outputs": [],
   "source": []
  },
  {
   "cell_type": "code",
   "execution_count": 22,
   "metadata": {},
   "outputs": [
    {
     "name": "stdout",
     "output_type": "stream",
     "text": [
      "   fullName  banlance accountID\n",
      "0     Alice     500.0        A1\n",
      "1       Bob    1500.0        A3\n",
      "2       Bob    1000.0        A2\n",
      "3   Charlie     300.0        A4\n",
      "4     Diana       NaN      None\n",
      "5     Alice       NaN      None\n",
      "6       Bob       NaN      None\n",
      "7   Charlie       NaN      None\n",
      "8     Diana       NaN      None\n",
      "9     Alice       NaN      None\n",
      "10      Bob       NaN      None\n",
      "11  Charlie       NaN      None\n",
      "12    Diana       NaN      None\n"
     ]
    },
    {
     "name": "stderr",
     "output_type": "stream",
     "text": [
      "C:\\Users\\AI LEARNER\\AppData\\Local\\Temp\\ipykernel_14464\\920166935.py:17: UserWarning: pandas only supports SQLAlchemy connectable (engine/connection) or database string URI or sqlite3 DBAPI2 connection. Other DBAPI2 objects are not tested. Please consider using SQLAlchemy.\n",
      "  result = pd.read_sql(query, connection)\n"
     ]
    }
   ],
   "source": [
    "#Connect to database\n",
    "connection = mysql.connector.connect(\n",
    "    host=\"localhost\",\n",
    "    user=\"root\",\n",
    "    password=\"123#edc\",\n",
    "    database=\"aio_week_9\"\n",
    ")\n",
    "\n",
    "cursor = connection.cursor()\n",
    "\n",
    "query = \"\"\"\n",
    "SELECT c.fullName, a.banlance, a.accountID\n",
    "FROM Customers_Company c\n",
    "LEFT JOIN Accounts a ON c.customer_id = a.customer_id\n",
    "\"\"\"\n",
    "result = pd.read_sql(query, connection)\n",
    "print(result)\n",
    "\n"
   ]
  },
  {
   "cell_type": "code",
   "execution_count": 28,
   "metadata": {},
   "outputs": [
    {
     "name": "stdout",
     "output_type": "stream",
     "text": [
      "  fullName  total_accounts\n",
      "0    Alice               1\n",
      "1      Bob               2\n",
      "2  Charlie               1\n"
     ]
    },
    {
     "name": "stderr",
     "output_type": "stream",
     "text": [
      "C:\\Users\\AI LEARNER\\AppData\\Local\\Temp\\ipykernel_14464\\1593757034.py:7: UserWarning: pandas only supports SQLAlchemy connectable (engine/connection) or database string URI or sqlite3 DBAPI2 connection. Other DBAPI2 objects are not tested. Please consider using SQLAlchemy.\n",
      "  result = pd.read_sql(query, connection)\n"
     ]
    }
   ],
   "source": [
    "query = \"\"\"\n",
    "SELECT c.fullName, COUNT(a.accountID) AS total_accounts\n",
    "FROM Customers_Company c\n",
    "INNER JOIN Accounts a ON c.customer_id = a.customer_id\n",
    "GROUP BY c.fullName\n",
    "\"\"\"\n",
    "result = pd.read_sql(query, connection)\n",
    "print(result)\n"
   ]
  },
  {
   "cell_type": "code",
   "execution_count": 30,
   "metadata": {},
   "outputs": [
    {
     "name": "stdout",
     "output_type": "stream",
     "text": [
      "   accountID fullName\n",
      "0         A1    Alice\n",
      "1         A2      Bob\n",
      "2         A3      Bob\n",
      "3         A4  Charlie\n",
      "4       None    Diana\n",
      "5       None    Alice\n",
      "6       None      Bob\n",
      "7       None  Charlie\n",
      "8       None    Diana\n",
      "9       None    Alice\n",
      "10      None      Bob\n",
      "11      None  Charlie\n",
      "12      None    Diana\n"
     ]
    },
    {
     "name": "stderr",
     "output_type": "stream",
     "text": [
      "C:\\Users\\AI LEARNER\\AppData\\Local\\Temp\\ipykernel_14464\\1517292642.py:6: UserWarning: pandas only supports SQLAlchemy connectable (engine/connection) or database string URI or sqlite3 DBAPI2 connection. Other DBAPI2 objects are not tested. Please consider using SQLAlchemy.\n",
      "  result = pd.read_sql(query, connection)\n"
     ]
    }
   ],
   "source": [
    "query = \"\"\"\n",
    "SELECT a.accountID, c.fullName\n",
    "FROM Accounts a\n",
    "RIGHT JOIN Customers_Company c ON a.customer_id = c.customer_id\n",
    "\"\"\"\n",
    "result = pd.read_sql(query, connection)\n",
    "print(result)\n"
   ]
  },
  {
   "cell_type": "code",
   "execution_count": 31,
   "metadata": {},
   "outputs": [
    {
     "name": "stdout",
     "output_type": "stream",
     "text": [
      "  accountID fullName\n",
      "0      None    Diana\n",
      "1      None    Alice\n",
      "2      None      Bob\n",
      "3      None  Charlie\n",
      "4      None    Diana\n",
      "5      None    Alice\n",
      "6      None      Bob\n",
      "7      None  Charlie\n",
      "8      None    Diana\n"
     ]
    },
    {
     "name": "stderr",
     "output_type": "stream",
     "text": [
      "C:\\Users\\AI LEARNER\\AppData\\Local\\Temp\\ipykernel_14464\\3495810967.py:8: UserWarning: pandas only supports SQLAlchemy connectable (engine/connection) or database string URI or sqlite3 DBAPI2 connection. Other DBAPI2 objects are not tested. Please consider using SQLAlchemy.\n",
      "  result = pd.read_sql(query, connection)\n"
     ]
    }
   ],
   "source": [
    "query = \"\"\"\n",
    "SELECT a.accountID, c.fullName\n",
    "FROM Accounts a\n",
    "RIGHT JOIN Customers_Company c ON a.customer_id = c.customer_id\n",
    "WHERE 1 = 1\n",
    "AND a.accountID IS NULL\n",
    "\"\"\"\n",
    "result = pd.read_sql(query, connection)\n",
    "print(result)\n"
   ]
  },
  {
   "cell_type": "code",
   "execution_count": 32,
   "metadata": {},
   "outputs": [
    {
     "name": "stdout",
     "output_type": "stream",
     "text": [
      "Empty DataFrame\n",
      "Columns: [accountID, fullName]\n",
      "Index: []\n"
     ]
    },
    {
     "name": "stderr",
     "output_type": "stream",
     "text": [
      "C:\\Users\\AI LEARNER\\AppData\\Local\\Temp\\ipykernel_14464\\1344294027.py:8: UserWarning: pandas only supports SQLAlchemy connectable (engine/connection) or database string URI or sqlite3 DBAPI2 connection. Other DBAPI2 objects are not tested. Please consider using SQLAlchemy.\n",
      "  result = pd.read_sql(query, connection)\n"
     ]
    }
   ],
   "source": [
    "query = \"\"\"\n",
    "SELECT a.accountID, c.fullName\n",
    "FROM Accounts a\n",
    "LEFT JOIN Customers_Company c ON a.customer_id = c.customer_id\n",
    "WHERE 1 = 1\n",
    "AND a.accountID IS NULL\n",
    "\"\"\"\n",
    "result = pd.read_sql(query, connection)\n",
    "print(result)\n",
    "\n"
   ]
  },
  {
   "cell_type": "code",
   "execution_count": 33,
   "metadata": {},
   "outputs": [],
   "source": [
    "cursor.close()\n",
    "connection.close()"
   ]
  }
 ],
 "metadata": {
  "kernelspec": {
   "display_name": "Python 3",
   "language": "python",
   "name": "python3"
  },
  "language_info": {
   "codemirror_mode": {
    "name": "ipython",
    "version": 3
   },
   "file_extension": ".py",
   "mimetype": "text/x-python",
   "name": "python",
   "nbconvert_exporter": "python",
   "pygments_lexer": "ipython3",
   "version": "3.11.9"
  }
 },
 "nbformat": 4,
 "nbformat_minor": 2
}
